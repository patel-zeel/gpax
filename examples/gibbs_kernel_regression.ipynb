{
 "cells": [
  {
   "cell_type": "code",
   "execution_count": 1,
   "metadata": {
    "scrolled": true
   },
   "outputs": [
    {
     "name": "stderr",
     "output_type": "stream",
     "text": [
      "WARNING:absl:No GPU/TPU found, falling back to CPU. (Set TF_CPP_MIN_LOG_LEVEL=0 and rerun for more info.)\n"
     ]
    }
   ],
   "source": [
    "import jax\n",
    "from jax.flatten_util import ravel_pytree\n",
    "import jax.numpy as jnp\n",
    "\n",
    "import optax\n",
    "import jaxopt\n",
    "\n",
    "import matplotlib.pyplot as plt\n",
    "\n",
    "from gpax import ExactGP, SparseGP, GibbsKernel, HomoscedasticNoise, HeteroscedasticNoise\n",
    "from gpax.utils import constrain, unconstrain, randomize, train_fn\n",
    "from gpax.plotting import plot_posterior\n",
    "\n",
    "import tensorflow_probability.substrates.jax as tfp\n",
    "tfd = tfp.distributions\n",
    "tfb = tfp.bijectors\n",
    "\n",
    "from stheno import GP, EQ\n",
    "\n",
    "import lab.jax as B\n",
    "from matrix import Dense, dense\n",
    "\n",
    "import regdata as rd\n",
    "\n",
    "import pprint\n",
    "pp = pprint.PrettyPrinter(depth=4)\n",
    "\n",
    "# from jax.config import config\n",
    "# config.update(\"jax_debug_nans\", True)"
   ]
  },
  {
   "cell_type": "code",
   "execution_count": 2,
   "metadata": {
    "scrolled": true
   },
   "outputs": [
    {
     "data": {
      "image/png": "[encoded data removed]",
      "text/plain": [
       "<Figure size 432x288 with 1 Axes>"
      ]
     },
     "metadata": {
      "needs_background": "light"
     },
     "output_type": "display_data"
    }
   ],
   "source": [
    "# X = jnp.linspace(-1, 1, 100).reshape(-1, 1)\n",
    "# # X = jnp.concatenate([X[:40], X[60:]])\n",
    "# key = jax.random.PRNGKey(0)\n",
    "# y = jnp.sin(2 * jnp.pi * X) + jax.random.normal(key, X.shape)*0.2\n",
    "\n",
    "X, y, X_test = rd.MotorcycleHelmet().get_data()\n",
    "\n",
    "plt.scatter(X, y);"
   ]
  },
  {
   "cell_type": "markdown",
   "metadata": {},
   "source": [
    "## Exact GP"
   ]
  },
  {
   "cell_type": "code",
   "execution_count": 11,
   "metadata": {},
   "outputs": [
    {
     "name": "stdout",
     "output_type": "stream",
     "text": [
      "(5, 1)\n"
     ]
    }
   ],
   "source": [
    "X_inducing = X[::20]\n",
    "print(X_inducing.shape)\n",
    "\n",
    "kernel = GibbsKernel(X_inducing=X_inducing)\n",
    "noise = HeteroscedasticNoise(use_kernel_inducing=True)\n",
    "model = ExactGP(kernel=kernel, noise=noise)\n",
    "prior = tfd.Normal(loc=0.0, scale=1.0)\n",
    "def loss_fun(params):\n",
    "#     print(params[\"kernel\"][\"latent_log_scale\"])\n",
    "#     print(prior.log_prob(params[\"kernel\"][\"latent_log_scale\"]).sum())\n",
    "    scale_prior = prior.log_prob(params[\"kernel\"][\"latent_log_scale\"]).sum()\n",
    "    var_prior = prior.log_prob(params[\"kernel\"][\"latent_log_variance\"]).sum()\n",
    "    noise_prior = prior.log_prob(params[\"noise\"][\"latent_log_noise\"]).sum()\n",
    "    return -model.log_probability(params, X, y) - scale_prior - var_prior - noise_prior"
   ]
  },
  {
   "cell_type": "code",
   "execution_count": 12,
   "metadata": {
    "scrolled": false
   },
   "outputs": [],
   "source": [
    "key = jax.random.PRNGKey(0)\n",
    "params = model.initialize_params(key, X, X_inducing)\n",
    "bijectors = model.get_bijectors()\n",
    "\n",
    "params = unconstrain(params, bijectors)\n",
    "key = jax.random.PRNGKey(0)\n",
    "params = randomize(params, key)\n",
    "# ravel_pytree(jax.value_and_grad(lambda params: loss_fun(constrain(params, bijectors)))(params)[1])"
   ]
  },
  {
   "cell_type": "code",
   "execution_count": 13,
   "metadata": {
    "scrolled": true
   },
   "outputs": [
    {
     "data": {
      "image/png": "[encoded data removed]",
      "text/plain": [
       "<Figure size 432x288 with 1 Axes>"
      ]
     },
     "metadata": {
      "needs_background": "light"
     },
     "output_type": "display_data"
    }
   ],
   "source": [
    "key = jax.random.PRNGKey(0)\n",
    "params = model.initialize_params(key, X, X_inducing)\n",
    "bijectors = model.get_bijectors()\n",
    "\n",
    "params = unconstrain(params, bijectors)\n",
    "key = jax.random.PRNGKey(105)\n",
    "# x_ind = params[\"kernel\"][\"X_inducing\"]\n",
    "params = randomize(params, key)\n",
    "# params[\"kernel\"][\"X_inducing\"] = x_ind\n",
    "\n",
    "# print(ravel_pytree(constrain(params, bijectors)))\n",
    "\n",
    "optimizer = optax.adam(1e-2)\n",
    "num_epochs = 200\n",
    "result = train_fn(loss_fun, params, bijectors, optimizer, num_epochs=num_epochs)\n",
    "plt.plot(result[\"loss_history\"]);\n",
    "\n",
    "# opt = jaxopt.ScipyMinimize(fun=lambda params: loss_fun(constrain(params, bijectors)), method=\"L-BFGS-B\")\n",
    "# res = opt.run(params)\n",
    "# result = {'params': res.params}\n",
    "# print(res.state.fun_val)"
   ]
  },
  {
   "cell_type": "code",
   "execution_count": 14,
   "metadata": {
    "scrolled": true
   },
   "outputs": [
    {
     "data": {
      "image/png": "[encoded data removed]",
      "text/plain": [
       "<Figure size 432x288 with 1 Axes>"
      ]
     },
     "metadata": {
      "needs_background": "light"
     },
     "output_type": "display_data"
    }
   ],
   "source": [
    "params = jax.tree_map(lambda x: x[35], result[\"params_history\"])\n",
    "# params = result[\"params\"]\n",
    "params = constrain(params, bijectors)\n",
    "ax = plot_posterior(model, params, X, y, X_test, ax=None, alpha=0.6);\n",
    "plt.vlines(params['kernel']['X_inducing'], *plt.ylim(), label='inducing locations', color='red')\n",
    "ax.legend(bbox_to_anchor=(1,1));"
   ]
  },
  {
   "cell_type": "markdown",
   "metadata": {},
   "source": [
    "## Sparse GP"
   ]
  },
  {
   "cell_type": "code",
   "execution_count": 7,
   "metadata": {
    "scrolled": true
   },
   "outputs": [
    {
     "ename": "NameError",
     "evalue": "name 'PseudoObs' is not defined",
     "output_type": "error",
     "traceback": [
      "\u001b[0;31m---------------------------------------------------------------------------\u001b[0m",
      "\u001b[0;31mNameError\u001b[0m                                 Traceback (most recent call last)",
      "Input \u001b[0;32mIn [7]\u001b[0m, in \u001b[0;36m<cell line: 1>\u001b[0;34m()\u001b[0m\n\u001b[0;32m----> 1\u001b[0m model \u001b[38;5;241m=\u001b[39m \u001b[43mSparseGP\u001b[49m\u001b[43m(\u001b[49m\n\u001b[1;32m      2\u001b[0m \u001b[38;5;66;43;03m#     kernel=GibbsKernel(X_inducing=X_inducing),\u001b[39;49;00m\n\u001b[1;32m      3\u001b[0m \u001b[43m    \u001b[49m\u001b[43mkernel\u001b[49m\u001b[38;5;241;43m=\u001b[39;49m\u001b[43mGibbsKernel\u001b[49m\u001b[43m(\u001b[49m\u001b[43m)\u001b[49m\u001b[43m,\u001b[49m\n\u001b[1;32m      4\u001b[0m \u001b[43m    \u001b[49m\u001b[43mnoise\u001b[49m\u001b[38;5;241;43m=\u001b[39;49m\u001b[43mHeteroscedasticNoise\u001b[49m\u001b[43m(\u001b[49m\u001b[43m)\u001b[49m\u001b[43m,\u001b[49m\n\u001b[1;32m      5\u001b[0m \u001b[43m    \u001b[49m\u001b[43mmethod\u001b[49m\u001b[38;5;241;43m=\u001b[39;49m\u001b[38;5;124;43m\"\u001b[39;49m\u001b[38;5;124;43mvfe\u001b[39;49m\u001b[38;5;124;43m\"\u001b[39;49m\u001b[43m,\u001b[49m\u001b[43m \u001b[49m\u001b[38;5;66;43;03m# \"vfe\" or \"fitc\" or \"dtc\"\u001b[39;49;00m\n\u001b[1;32m      6\u001b[0m \u001b[43m)\u001b[49m\n\u001b[1;32m      8\u001b[0m \u001b[38;5;28;01mdef\u001b[39;00m \u001b[38;5;21mloss_fun\u001b[39m(params):\n\u001b[1;32m      9\u001b[0m     \u001b[38;5;28;01mreturn\u001b[39;00m \u001b[38;5;241m-\u001b[39mmodel\u001b[38;5;241m.\u001b[39melbo(params, X, y)\n",
      "File \u001b[0;32m~/miniconda3/envs/ajax/lib/python3.9/site-packages/chex/_src/dataclass.py:217\u001b[0m, in \u001b[0;36m_Dataclass.__call__.<locals>._init\u001b[0;34m(self, *args, **kwargs)\u001b[0m\n\u001b[1;32m    215\u001b[0m   register_dataclass_type_with_jax_tree_util(dcls)\n\u001b[1;32m    216\u001b[0m   class_self\u001b[38;5;241m.\u001b[39mregistered \u001b[38;5;241m=\u001b[39m \u001b[38;5;28;01mTrue\u001b[39;00m\n\u001b[0;32m--> 217\u001b[0m \u001b[38;5;28;01mreturn\u001b[39;00m \u001b[43morig_init\u001b[49m\u001b[43m(\u001b[49m\u001b[38;5;28;43mself\u001b[39;49m\u001b[43m,\u001b[49m\u001b[43m \u001b[49m\u001b[38;5;241;43m*\u001b[39;49m\u001b[43margs\u001b[49m\u001b[43m,\u001b[49m\u001b[43m \u001b[49m\u001b[38;5;241;43m*\u001b[39;49m\u001b[38;5;241;43m*\u001b[39;49m\u001b[43mkwargs\u001b[49m\u001b[43m)\u001b[49m\n",
      "File \u001b[0;32m~/miniconda3/envs/ajax/lib/python3.9/site-packages/chex/_src/dataclass.py:69\u001b[0m, in \u001b[0;36mmappable_dataclass.<locals>.new_init\u001b[0;34m(self, *orig_args, **orig_kwargs)\u001b[0m\n\u001b[1;32m     67\u001b[0m \u001b[38;5;66;03m# Pass only arguments corresponding to fields with `init=True`.\u001b[39;00m\n\u001b[1;32m     68\u001b[0m valid_kwargs \u001b[38;5;241m=\u001b[39m {k: v \u001b[38;5;28;01mfor\u001b[39;00m k, v \u001b[38;5;129;01min\u001b[39;00m all_kwargs\u001b[38;5;241m.\u001b[39mitems() \u001b[38;5;28;01mif\u001b[39;00m k \u001b[38;5;129;01min\u001b[39;00m init_fields}\n\u001b[0;32m---> 69\u001b[0m \u001b[43morig_init\u001b[49m\u001b[43m(\u001b[49m\u001b[38;5;28;43mself\u001b[39;49m\u001b[43m,\u001b[49m\u001b[43m \u001b[49m\u001b[38;5;241;43m*\u001b[39;49m\u001b[38;5;241;43m*\u001b[39;49m\u001b[43mvalid_kwargs\u001b[49m\u001b[43m)\u001b[49m\n",
      "File \u001b[0;32m<string>:7\u001b[0m, in \u001b[0;36m__init__\u001b[0;34m(self, kernel, noise, mean, method)\u001b[0m\n",
      "File \u001b[0;32m~/gpax/gpax/gps.py:107\u001b[0m, in \u001b[0;36mSparseGP.__post_init__\u001b[0;34m(self)\u001b[0m\n\u001b[1;32m    100\u001b[0m \u001b[38;5;28;01mdef\u001b[39;00m \u001b[38;5;21m__post_init__\u001b[39m(\u001b[38;5;28mself\u001b[39m):\n\u001b[1;32m    101\u001b[0m     \u001b[38;5;28;01massert\u001b[39;00m \u001b[38;5;28mself\u001b[39m\u001b[38;5;241m.\u001b[39mmethod \u001b[38;5;129;01min\u001b[39;00m [\n\u001b[1;32m    102\u001b[0m         \u001b[38;5;124m\"\u001b[39m\u001b[38;5;124mvfe\u001b[39m\u001b[38;5;124m\"\u001b[39m,\n\u001b[1;32m    103\u001b[0m         \u001b[38;5;124m\"\u001b[39m\u001b[38;5;124mfitc\u001b[39m\u001b[38;5;124m\"\u001b[39m,\n\u001b[1;32m    104\u001b[0m         \u001b[38;5;124m\"\u001b[39m\u001b[38;5;124mdtc\u001b[39m\u001b[38;5;124m\"\u001b[39m,\n\u001b[1;32m    105\u001b[0m     ], \u001b[38;5;124m\"\u001b[39m\u001b[38;5;124mmethod must be one of vfe, fitc, dtc\u001b[39m\u001b[38;5;124m\"\u001b[39m\n\u001b[0;32m--> 107\u001b[0m     \u001b[38;5;28mself\u001b[39m\u001b[38;5;241m.\u001b[39mpseudo_obs \u001b[38;5;241m=\u001b[39m {\u001b[38;5;124m\"\u001b[39m\u001b[38;5;124mvfe\u001b[39m\u001b[38;5;124m\"\u001b[39m: \u001b[43mPseudoObs\u001b[49m, \u001b[38;5;124m\"\u001b[39m\u001b[38;5;124mfitc\u001b[39m\u001b[38;5;124m\"\u001b[39m: PseudoObsFITC, \u001b[38;5;124m\"\u001b[39m\u001b[38;5;124mdtc\u001b[39m\u001b[38;5;124m\"\u001b[39m: PseudoObsDTC}\n",
      "\u001b[0;31mNameError\u001b[0m: name 'PseudoObs' is not defined"
     ]
    }
   ],
   "source": [
    "model = SparseGP(\n",
    "#     kernel=GibbsKernel(X_inducing=X_inducing),\n",
    "    kernel=GibbsKernel(),\n",
    "    noise=HeteroscedasticNoise(),\n",
    "    method=\"vfe\", # \"vfe\" or \"fitc\" or \"dtc\"\n",
    ")\n",
    "\n",
    "def loss_fun(params):\n",
    "    return -model.elbo(params, X, y)\n",
    "\n",
    "optimizer = optax.adam(1e-2)\n",
    "num_epochs = 100\n",
    "\n",
    "params = model.initialize_params(key, X, X_inducing)\n",
    "bijectors = model.get_bijectors()\n",
    "\n",
    "params = unconstrain(params, bijectors)\n",
    "key = jax.random.PRNGKey(10)\n",
    "x_ind, x_ind2 = params[\"X_inducing\"], params[\"kernel\"][\"X_inducing\"]\n",
    "params = randomize(params, key)\n",
    "params[\"X_inducing\"], params[\"kernel\"][\"X_inducing\"] = x_ind, x_ind2\n",
    "result = train_fn(loss_fun, params, bijectors, optimizer, num_epochs=num_epochs)\n",
    "\n",
    "plt.plot(result[\"loss_history\"]);"
   ]
  },
  {
   "cell_type": "code",
   "execution_count": null,
   "metadata": {},
   "outputs": [],
   "source": [
    "params = jax.tree_map(lambda x: x[660], result[\"params_history\"])\n",
    "params = constrain(params, bijectors)\n",
    "ax = plot_posterior(model, params, X, y, X_test, ax=None, alpha=0.6)\n",
    "f = model.get_gp(params)\n",
    "pseudo_obs = model.get_pseudo_obs(params, f, X, y)\n",
    "ax.plot(params['X_inducing'], B.dense(pseudo_obs.mu(f.measure)), 'o', color='red', label='pseudo obs');\n",
    "ax.legend(bbox_to_anchor=(1,1));"
   ]
  },
  {
   "cell_type": "markdown",
   "metadata": {},
   "source": [
    "## Appendix"
   ]
  },
  {
   "cell_type": "code",
   "execution_count": 21,
   "metadata": {},
   "outputs": [],
   "source": []
  },
  {
   "cell_type": "code",
   "execution_count": 22,
   "metadata": {},
   "outputs": [
    {
     "data": {
      "text/plain": [
       "GibbsKernel(active_dims=None, ARD=True, X_inducing=array([[ 0.67000835],\n",
       "       [ 0.12247464],\n",
       "       [ 0.69882592],\n",
       "       [ 0.16570099],\n",
       "       [ 2.28379191],\n",
       "       [ 0.03602195],\n",
       "       [ 1.49130891],\n",
       "       [ 2.09647775],\n",
       "       [-0.67000835],\n",
       "       [-1.27517719]]), flex_scale=True, flex_variance=True)"
      ]
     },
     "execution_count": 22,
     "metadata": {},
     "output_type": "execute_result"
    }
   ],
   "source": []
  },
  {
   "cell_type": "code",
   "execution_count": null,
   "metadata": {},
   "outputs": [],
   "source": []
  }
 ],
 "metadata": {
  "kernelspec": {
   "display_name": "Python [conda env:ajax]",
   "language": "python",
   "name": "conda-env-ajax-py"
  },
  "language_info": {
   "codemirror_mode": {
    "name": "ipython",
    "version": 3
   },
   "file_extension": ".py",
   "mimetype": "text/x-python",
   "name": "python",
   "nbconvert_exporter": "python",
   "pygments_lexer": "ipython3",
   "version": "3.9.12"
  },
  "vscode": {
   "interpreter": {
    "hash": "50af141b1ed41c41f58de3ec3fe9dd8cbb2412fc7d48f41f23867b5f1be3d3c3"
   }
  }
 },
 "nbformat": 4,
 "nbformat_minor": 2
}
