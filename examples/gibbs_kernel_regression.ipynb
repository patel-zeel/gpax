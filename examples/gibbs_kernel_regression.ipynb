{
 "cells": [
  {
   "cell_type": "code",
   "execution_count": 1,
   "metadata": {
    "scrolled": true
   },
   "outputs": [
    {
     "name": "stderr",
     "output_type": "stream",
     "text": [
      "WARNING:absl:No GPU/TPU found, falling back to CPU. (Set TF_CPP_MIN_LOG_LEVEL=0 and rerun for more info.)\n"
     ]
    }
   ],
   "source": [
    "import jax\n",
    "from jax.flatten_util import ravel_pytree\n",
    "import jax.numpy as jnp\n",
    "\n",
    "import optax\n",
    "\n",
    "import matplotlib.pyplot as plt\n",
    "\n",
    "from gpax import ExactGP, SparseGP, GibbsKernel, HomoscedasticNoise, HeteroscedasticNoise\n",
    "from gpax.utils import constrain, unconstrain, randomize, train_fn\n",
    "from gpax.plotting import plot_posterior\n",
    "\n",
    "import tensorflow_probability.substrates.jax as tfp\n",
    "tfd = tfp.distributions\n",
    "tfb = tfp.bijectors\n",
    "\n",
    "from stheno import GP, EQ\n",
    "\n",
    "import lab.jax as B\n",
    "from matrix import Dense, dense\n",
    "\n",
    "import regdata as rd\n",
    "\n",
    "import pprint\n",
    "pp = pprint.PrettyPrinter(depth=4)\n",
    "\n",
    "from jax.config import config\n",
    "config.update(\"jax_debug_nans\", True)"
   ]
  },
  {
   "cell_type": "code",
   "execution_count": 2,
   "metadata": {
    "scrolled": true
   },
   "outputs": [
    {
     "data": {
      "image/png": "[encoded data removed]",
      "text/plain": [
       "<Figure size 432x288 with 1 Axes>"
      ]
     },
     "metadata": {
      "needs_background": "light"
     },
     "output_type": "display_data"
    }
   ],
   "source": [
    "# X = jnp.linspace(-1, 1, 100).reshape(-1, 1)\n",
    "# # X = jnp.concatenate([X[:40], X[60:]])\n",
    "# key = jax.random.PRNGKey(0)\n",
    "# y = jnp.sin(2 * jnp.pi * X) + jax.random.normal(key, X.shape)*0.2\n",
    "\n",
    "X, y, X_test = rd.MotorcycleHelmet().get_data()\n",
    "\n",
    "plt.scatter(X, y);"
   ]
  },
  {
   "cell_type": "markdown",
   "metadata": {},
   "source": [
    "## Exact GP"
   ]
  },
  {
   "cell_type": "code",
   "execution_count": 3,
   "metadata": {},
   "outputs": [
    {
     "name": "stdout",
     "output_type": "stream",
     "text": [
      "(10, 1)\n"
     ]
    }
   ],
   "source": [
    "X_inducing = X[::10]\n",
    "print(X_inducing.shape)\n",
    "\n",
    "kernel = GibbsKernel(X_inducing=X_inducing)\n",
    "noise = HeteroscedasticNoise(use_kernel_inducing=True)\n",
    "model = ExactGP(kernel=kernel, noise=noise)\n",
    "prior = tfd.Normal(loc=0.0, scale=1.0)\n",
    "def loss_fun(params):\n",
    "#     print(params[\"kernel\"][\"latent_log_scale\"])\n",
    "#     print(prior.log_prob(params[\"kernel\"][\"latent_log_scale\"]).sum())\n",
    "    return -model.log_probability(params, X, y)"
   ]
  },
  {
   "cell_type": "code",
   "execution_count": 4,
   "metadata": {
    "scrolled": false
   },
   "outputs": [
    {
     "data": {
      "text/plain": [
       "DeviceArray(147.39787038, dtype=float64)"
      ]
     },
     "execution_count": 4,
     "metadata": {},
     "output_type": "execute_result"
    }
   ],
   "source": [
    "key = jax.random.PRNGKey(0)\n",
    "params = model.initialise_params(key, X, X_inducing)\n",
    "bijectors = model.get_bijectors()\n",
    "\n",
    "params = unconstrain(params, bijectors)\n",
    "key = jax.random.PRNGKey(2)\n",
    "params = randomize(params, key)\n",
    "params = constrain(params, bijectors)\n",
    "loss_fun(params)"
   ]
  },
  {
   "cell_type": "code",
   "execution_count": 5,
   "metadata": {
    "scrolled": true
   },
   "outputs": [
    {
     "ename": "FloatingPointError",
     "evalue": "invalid value (nan) encountered in scan",
     "output_type": "error",
     "traceback": [
      "\u001b[0;31m---------------------------------------------------------------------------\u001b[0m",
      "\u001b[0;31mFloatingPointError\u001b[0m                        Traceback (most recent call last)",
      "Input \u001b[0;32mIn [5]\u001b[0m, in \u001b[0;36m<cell line: 16>\u001b[0;34m()\u001b[0m\n\u001b[1;32m     14\u001b[0m num_epochs \u001b[38;5;241m=\u001b[39m \u001b[38;5;241m200\u001b[39m\n\u001b[1;32m     15\u001b[0m \u001b[38;5;66;03m# B.epsilon = 10.\u001b[39;00m\n\u001b[0;32m---> 16\u001b[0m result \u001b[38;5;241m=\u001b[39m \u001b[43mtrain_fn\u001b[49m\u001b[43m(\u001b[49m\u001b[43mloss_fun\u001b[49m\u001b[43m,\u001b[49m\u001b[43m \u001b[49m\u001b[43mparams\u001b[49m\u001b[43m,\u001b[49m\u001b[43m \u001b[49m\u001b[43mbijectors\u001b[49m\u001b[43m,\u001b[49m\u001b[43m \u001b[49m\u001b[43moptimizer\u001b[49m\u001b[43m,\u001b[49m\u001b[43m \u001b[49m\u001b[43mnum_epochs\u001b[49m\u001b[38;5;241;43m=\u001b[39;49m\u001b[43mnum_epochs\u001b[49m\u001b[43m)\u001b[49m\n\u001b[1;32m     18\u001b[0m plt\u001b[38;5;241m.\u001b[39mplot(result[\u001b[38;5;124m\"\u001b[39m\u001b[38;5;124mloss_history\u001b[39m\u001b[38;5;124m\"\u001b[39m])\n",
      "File \u001b[0;32m~/gpax/gpax/utils.py:34\u001b[0m, in \u001b[0;36mtrain_fn\u001b[0;34m(loss_fn, params, bijectors, optimizer, num_epochs)\u001b[0m\n\u001b[1;32m     31\u001b[0m     params \u001b[38;5;241m=\u001b[39m optax\u001b[38;5;241m.\u001b[39mapply_updates(params, updates)\n\u001b[1;32m     32\u001b[0m     \u001b[38;5;28;01mreturn\u001b[39;00m (params, state), (params, loss)\n\u001b[0;32m---> 34\u001b[0m (params, state), (params_history, loss_history) \u001b[38;5;241m=\u001b[39m \u001b[43mjax\u001b[49m\u001b[38;5;241;43m.\u001b[39;49m\u001b[43mlax\u001b[49m\u001b[38;5;241;43m.\u001b[39;49m\u001b[43mscan\u001b[49m\u001b[43m(\u001b[49m\n\u001b[1;32m     35\u001b[0m \u001b[43m    \u001b[49m\u001b[43mf\u001b[49m\u001b[38;5;241;43m=\u001b[39;49m\u001b[43mstep\u001b[49m\u001b[43m,\u001b[49m\u001b[43m \u001b[49m\u001b[43minit\u001b[49m\u001b[38;5;241;43m=\u001b[39;49m\u001b[43m(\u001b[49m\u001b[43mparams\u001b[49m\u001b[43m,\u001b[49m\u001b[43m \u001b[49m\u001b[43mstate\u001b[49m\u001b[43m)\u001b[49m\u001b[43m,\u001b[49m\u001b[43m \u001b[49m\u001b[43mxs\u001b[49m\u001b[38;5;241;43m=\u001b[39;49m\u001b[38;5;28;43;01mNone\u001b[39;49;00m\u001b[43m,\u001b[49m\u001b[43m \u001b[49m\u001b[43mlength\u001b[49m\u001b[38;5;241;43m=\u001b[39;49m\u001b[43mnum_epochs\u001b[49m\n\u001b[1;32m     36\u001b[0m \u001b[43m\u001b[49m\u001b[43m)\u001b[49m\n\u001b[1;32m     37\u001b[0m \u001b[38;5;28;01mreturn\u001b[39;00m {\n\u001b[1;32m     38\u001b[0m     \u001b[38;5;124m\"\u001b[39m\u001b[38;5;124mparams\u001b[39m\u001b[38;5;124m\"\u001b[39m: params,\n\u001b[1;32m     39\u001b[0m     \u001b[38;5;124m\"\u001b[39m\u001b[38;5;124mparams_history\u001b[39m\u001b[38;5;124m\"\u001b[39m: params_history,\n\u001b[1;32m     40\u001b[0m     \u001b[38;5;124m\"\u001b[39m\u001b[38;5;124mloss_history\u001b[39m\u001b[38;5;124m\"\u001b[39m: loss_history,\n\u001b[1;32m     41\u001b[0m }\n",
      "    \u001b[0;31m[... skipping hidden 9 frame]\u001b[0m\n",
      "File \u001b[0;32m~/miniconda3/envs/ajax/lib/python3.9/site-packages/jax/_src/dispatch.py:790\u001b[0m, in \u001b[0;36m_check_special\u001b[0;34m(name, xla_shape, buf)\u001b[0m\n\u001b[1;32m    788\u001b[0m \u001b[38;5;28;01mif\u001b[39;00m dtypes\u001b[38;5;241m.\u001b[39missubdtype(xla_shape\u001b[38;5;241m.\u001b[39melement_type(), np\u001b[38;5;241m.\u001b[39minexact):\n\u001b[1;32m    789\u001b[0m   \u001b[38;5;28;01mif\u001b[39;00m config\u001b[38;5;241m.\u001b[39mjax_debug_nans \u001b[38;5;129;01mand\u001b[39;00m np\u001b[38;5;241m.\u001b[39many(np\u001b[38;5;241m.\u001b[39misnan(np\u001b[38;5;241m.\u001b[39masarray(buf))):\n\u001b[0;32m--> 790\u001b[0m     \u001b[38;5;28;01mraise\u001b[39;00m \u001b[38;5;167;01mFloatingPointError\u001b[39;00m(\u001b[38;5;124mf\u001b[39m\u001b[38;5;124m\"\u001b[39m\u001b[38;5;124minvalid value (nan) encountered in \u001b[39m\u001b[38;5;132;01m{\u001b[39;00mname\u001b[38;5;132;01m}\u001b[39;00m\u001b[38;5;124m\"\u001b[39m)\n\u001b[1;32m    791\u001b[0m   \u001b[38;5;28;01mif\u001b[39;00m config\u001b[38;5;241m.\u001b[39mjax_debug_infs \u001b[38;5;129;01mand\u001b[39;00m np\u001b[38;5;241m.\u001b[39many(np\u001b[38;5;241m.\u001b[39misinf(np\u001b[38;5;241m.\u001b[39masarray(buf))):\n\u001b[1;32m    792\u001b[0m     \u001b[38;5;28;01mraise\u001b[39;00m \u001b[38;5;167;01mFloatingPointError\u001b[39;00m(\u001b[38;5;124mf\u001b[39m\u001b[38;5;124m\"\u001b[39m\u001b[38;5;124minvalid value (inf) encountered in \u001b[39m\u001b[38;5;132;01m{\u001b[39;00mname\u001b[38;5;132;01m}\u001b[39;00m\u001b[38;5;124m\"\u001b[39m)\n",
      "\u001b[0;31mFloatingPointError\u001b[0m: invalid value (nan) encountered in scan"
     ]
    }
   ],
   "source": [
    "key = jax.random.PRNGKey(0)\n",
    "params = model.initialise_params(key, X, X_inducing)\n",
    "bijectors = model.get_bijectors()\n",
    "\n",
    "params = unconstrain(params, bijectors)\n",
    "key = jax.random.PRNGKey(9)\n",
    "x_ind = params[\"kernel\"][\"X_inducing\"]\n",
    "params = randomize(params, key)\n",
    "params[\"kernel\"][\"X_inducing\"] = x_ind\n",
    "\n",
    "# print(ravel_pytree(constrain(params, bijectors)))\n",
    "\n",
    "optimizer = optax.adam(1e-2)\n",
    "num_epochs = 200\n",
    "# B.epsilon = 10.\n",
    "result = train_fn(loss_fun, params, bijectors, optimizer, num_epochs=num_epochs)\n",
    "\n",
    "plt.plot(result[\"loss_history\"]);"
   ]
  },
  {
   "cell_type": "code",
   "execution_count": 46,
   "metadata": {
    "scrolled": true
   },
   "outputs": [
    {
     "data": {
      "image/png": "[encoded data removed]",
      "text/plain": [
       "<Figure size 432x288 with 1 Axes>"
      ]
     },
     "metadata": {
      "needs_background": "light"
     },
     "output_type": "display_data"
    }
   ],
   "source": [
    "params = jax.tree_map(lambda x: x[-1], result[\"params_history\"])\n",
    "params = constrain(params, bijectors)\n",
    "ax = plot_posterior(model, params, X, y, X_test, ax=None, alpha=0.6);\n",
    "plt.vlines(params['kernel']['X_inducing'], *plt.ylim(), label='inducing locations', color='red')\n",
    "ax.legend(bbox_to_anchor=(1,1));"
   ]
  },
  {
   "cell_type": "markdown",
   "metadata": {},
   "source": [
    "## Sparse GP"
   ]
  },
  {
   "cell_type": "code",
   "execution_count": 54,
   "metadata": {
    "scrolled": true
   },
   "outputs": [
    {
     "data": {
      "image/png": "[encoded data removed]",
      "text/plain": [
       "<Figure size 432x288 with 1 Axes>"
      ]
     },
     "metadata": {
      "needs_background": "light"
     },
     "output_type": "display_data"
    }
   ],
   "source": [
    "model = SparseGP(\n",
    "    kernel=GibbsKernel(X_inducing=X_inducing),\n",
    "    noise=HeteroscedasticNoise(),\n",
    "    method=\"vfe\", # \"vfe\" or \"fitc\" or \"dtc\"\n",
    ")\n",
    "\n",
    "def loss_fun(params):\n",
    "    return -model.elbo(params, X, y)\n",
    "\n",
    "optimizer = optax.adam(1e-2)\n",
    "num_epochs = 10\n",
    "\n",
    "params = model.initialise_params(key, X, X_inducing)\n",
    "bijectors = model.get_bijectors()\n",
    "\n",
    "params = unconstrain(params, bijectors)\n",
    "key = jax.random.PRNGKey(10)\n",
    "x_ind, x_ind2 = params[\"X_inducing\"], params[\"kernel\"][\"X_inducing\"]\n",
    "params = randomize(params, key)\n",
    "params[\"X_inducing\"], params[\"kernel\"][\"X_inducing\"] = x_ind, x_ind2\n",
    "result = train_fn(loss_fun, params, bijectors, optimizer, num_epochs=num_epochs)\n",
    "\n",
    "plt.plot(result[\"loss_history\"]);"
   ]
  },
  {
   "cell_type": "code",
   "execution_count": 53,
   "metadata": {},
   "outputs": [
    {
     "data": {
      "image/png": "[encoded data removed]",
      "text/plain": [
       "<Figure size 432x288 with 1 Axes>"
      ]
     },
     "metadata": {
      "needs_background": "light"
     },
     "output_type": "display_data"
    }
   ],
   "source": [
    "params = jax.tree_map(lambda x: x[660], result[\"params_history\"])\n",
    "params = constrain(params, bijectors)\n",
    "ax = plot_posterior(model, params, X, y, X_test, ax=None, alpha=0.6)\n",
    "f = model.get_gp(params)\n",
    "pseudo_obs = model.get_pseudo_obs(params, f, X, y)\n",
    "ax.plot(params['X_inducing'], B.dense(pseudo_obs.mu(f.measure)), 'o', color='red', label='pseudo obs');\n",
    "ax.legend(bbox_to_anchor=(1,1));"
   ]
  },
  {
   "cell_type": "markdown",
   "metadata": {},
   "source": [
    "## Appendix"
   ]
  },
  {
   "cell_type": "code",
   "execution_count": 3,
   "metadata": {},
   "outputs": [],
   "source": [
    "from gpflex.core.kernels import FlexKernel"
   ]
  },
  {
   "cell_type": "code",
   "execution_count": 4,
   "metadata": {},
   "outputs": [
    {
     "name": "stdout",
     "output_type": "stream",
     "text": [
      "94\n"
     ]
    }
   ],
   "source": [
    "kernel = FlexKernel(latent_x=X[::10])\n",
    "values, unravel_fn = ravel_pytree(kernel)\n",
    "values = randomize(values, jax.random.PRNGKey(10))\n",
    "kernel = unravel_fn(values)\n",
    "cov = kernel(X, X)\n",
    "c = cov + jnp.diag(jax.random.normal(jax.random.PRNGKey(14), (cov.shape[0], )))\n",
    "print(jnp.linalg.matrix_rank(c))\n",
    "# jnp.linalg.cholesky(c)"
   ]
  },
  {
   "cell_type": "code",
   "execution_count": 5,
   "metadata": {},
   "outputs": [
    {
     "data": {
      "text/plain": [
       "DeviceArray([0.25713083, 0.18668484, 0.2638846 , 0.1859538 , 0.17193638,\n",
       "             0.19232759, 0.28364548, 0.18640848, 0.54728099, 0.88132095,\n",
       "             0.21959429, 0.38863799, 0.6868704 , 0.32372735, 0.89801692,\n",
       "             0.22872787, 0.56739167, 0.2504248 , 0.22817291, 0.80162985,\n",
       "             0.24382766, 0.18835323, 0.199443  , 0.58877252, 0.74050689,\n",
       "             0.61685584, 0.3402994 , 0.31104836, 0.64372427, 0.29961557,\n",
       "             0.89294793, 0.21917057, 0.30442286, 0.23425928, 0.870084  ,\n",
       "             0.30163043, 0.57988265, 0.32711419, 0.33155548, 0.23967333,\n",
       "             0.19553189, 0.32214927, 0.18600322, 0.18372875, 0.63094238,\n",
       "             0.20079695, 0.8647269 , 0.25249666, 0.20167321, 0.75328975,\n",
       "             0.31565963, 0.32441901, 0.53371775, 0.66949661, 0.32261211,\n",
       "             0.60278963, 0.21252353, 0.56099321, 0.18619553, 0.21263642,\n",
       "             0.19263938, 0.42128887, 0.89371705, 0.2093824 , 0.82179309,\n",
       "             0.48135015, 0.36837944, 0.22281665, 0.57483179, 0.32550164,\n",
       "             0.27237339, 0.23510757, 0.31496341, 0.83119214, 0.877301  ,\n",
       "             0.88700527, 0.19384323, 0.31751607, 0.20079673, 0.37835569,\n",
       "             0.29237457, 0.18792859, 0.26663936, 0.26050573, 0.77784618,\n",
       "             0.19892791, 0.27396201, 0.67301631, 0.6179928 , 0.20670362,\n",
       "             0.27875807, 0.46881444, 0.18878509, 0.89592469],            dtype=float64)"
      ]
     },
     "execution_count": 5,
     "metadata": {},
     "output_type": "execute_result"
    }
   ],
   "source": [
    "jnp.diag(cov)"
   ]
  },
  {
   "cell_type": "code",
   "execution_count": 19,
   "metadata": {},
   "outputs": [
    {
     "data": {
      "text/plain": [
       "DeviceArray([[ 1.34658176,  0.        ,  0.        , ...,  0.        ,\n",
       "               0.        ,  0.        ],\n",
       "             [ 0.91962198,  0.87256872,  0.        , ...,  0.        ,\n",
       "               0.        ,  0.        ],\n",
       "             [ 1.10781309,  0.21754679,  0.60718973, ...,  0.        ,\n",
       "               0.        ,  0.        ],\n",
       "             ...,\n",
       "             [ 0.32891668,  0.71650877, -0.16354719, ...,  0.7615721 ,\n",
       "               0.        ,  0.        ],\n",
       "             [ 0.88638372,  0.81099148,  0.00763058, ...,  0.00355779,\n",
       "               0.37869293,  0.        ],\n",
       "             [ 0.0801588 ,  0.29709424, -0.08685412, ...,  0.00837769,\n",
       "              -0.0060519 ,  0.64562375]], dtype=float64)"
      ]
     },
     "execution_count": 19,
     "metadata": {},
     "output_type": "execute_result"
    }
   ],
   "source": [
    "kernel = GibbsKernel(X_inducing=X[::10])\n",
    "params = kernel.initialise_params(jax.random.PRNGKey(123), X_inducing=X[::10])\n",
    "bijectors = kernel.get_bijectors()\n",
    "params = unconstrain(params, bijectors)\n",
    "params = randomize(params, jax.random.PRNGKey(321))\n",
    "params = constrain(params, bijectors)\n",
    "cov = B.dense(kernel(params)(X, X))\n",
    "c = cov + jnp.abs(jnp.diag(jax.random.normal(jax.random.PRNGKey(14), (cov.shape[0], ))))\n",
    "jnp.linalg.matrix_rank(c)\n",
    "\n",
    "jnp.linalg.cholesky(c)"
   ]
  },
  {
   "cell_type": "code",
   "execution_count": 33,
   "metadata": {},
   "outputs": [],
   "source": [
    "from stheno.jax import EQ, GP"
   ]
  },
  {
   "cell_type": "code",
   "execution_count": 15,
   "metadata": {},
   "outputs": [
    {
     "data": {
      "text/plain": [
       "<diagonal matrix: batch=(), shape=(5, 5), dtype=float64\n",
       " diag=[0.1 0.1 0.1 0.1 0.1]>"
      ]
     },
     "execution_count": 15,
     "metadata": {},
     "output_type": "execute_result"
    }
   ],
   "source": [
    "x = jax.random.normal(jax.random.PRNGKey(10), (5,2))\n",
    "GP(EQ())(x, jnp.array(0.1)).noise\n",
    "# jnp.array([0.1]).shape"
   ]
  },
  {
   "cell_type": "code",
   "execution_count": 32,
   "metadata": {},
   "outputs": [
    {
     "data": {
      "text/plain": [
       "<dense matrix: batch=(), shape=(5, 5), dtype=float64\n",
       " mat=[[1.000e+00 4.865e-01 3.646e-01 1.061e-03 2.854e-03]\n",
       "      [4.865e-01 1.000e+00 4.375e-01 4.991e-03 2.777e-02]\n",
       "      [3.646e-01 4.375e-01 1.000e+00 1.041e-03 2.794e-02]\n",
       "      [1.061e-03 4.991e-03 1.041e-03 1.000e+00 1.270e-04]\n",
       "      [2.854e-03 2.777e-02 2.794e-02 1.270e-04 1.000e+00]]>"
      ]
     },
     "execution_count": 32,
     "metadata": {},
     "output_type": "execute_result"
    }
   ],
   "source": [
    "EQ()(x, x)"
   ]
  },
  {
   "cell_type": "code",
   "execution_count": 31,
   "metadata": {},
   "outputs": [
    {
     "data": {
      "text/plain": [
       "DeviceArray([[1.        , 0.52989886, 0.64234285, 0.22303027, 0.00321975],\n",
       "             [0.52989886, 1.        , 0.75629176, 0.32947335, 0.04082509],\n",
       "             [0.64234285, 0.75629176, 1.        , 0.67992447, 0.04878733],\n",
       "             [0.22303027, 0.32947335, 0.67992447, 1.        , 0.14922711],\n",
       "             [0.00321975, 0.04082509, 0.04878733, 0.14922711, 1.        ]],            dtype=float64)"
      ]
     },
     "execution_count": 31,
     "metadata": {},
     "output_type": "execute_result"
    }
   ],
   "source": [
    "B.dense(EQ().select(1)(x, x)) * B.dense(EQ().select(2)(x,x))"
   ]
  }
 ],
 "metadata": {
  "kernelspec": {
   "display_name": "Python [conda env:ajax]",
   "language": "python",
   "name": "conda-env-ajax-py"
  },
  "language_info": {
   "codemirror_mode": {
    "name": "ipython",
    "version": 3
   },
   "file_extension": ".py",
   "mimetype": "text/x-python",
   "name": "python",
   "nbconvert_exporter": "python",
   "pygments_lexer": "ipython3",
   "version": "3.9.12"
  },
  "vscode": {
   "interpreter": {
    "hash": "50af141b1ed41c41f58de3ec3fe9dd8cbb2412fc7d48f41f23867b5f1be3d3c3"
   }
  }
 },
 "nbformat": 4,
 "nbformat_minor": 2
}
