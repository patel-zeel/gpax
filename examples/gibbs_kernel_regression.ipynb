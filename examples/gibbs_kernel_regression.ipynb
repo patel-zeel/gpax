{
 "cells": [
  {
   "cell_type": "code",
   "execution_count": 1,
   "metadata": {
    "scrolled": true
   },
   "outputs": [
    {
     "name": "stderr",
     "output_type": "stream",
     "text": [
      "WARNING:absl:No GPU/TPU found, falling back to CPU. (Set TF_CPP_MIN_LOG_LEVEL=0 and rerun for more info.)\n"
     ]
    }
   ],
   "source": [
    "import jax\n",
    "from jax.flatten_util import ravel_pytree\n",
    "import jax.numpy as jnp\n",
    "\n",
    "import optax\n",
    "import jaxopt\n",
    "\n",
    "import matplotlib.pyplot as plt\n",
    "\n",
    "from gpax import ExactGP, SparseGP, GibbsKernel, HomoscedasticNoise, HeteroscedasticNoise\n",
    "from gpax.utils import constrain, unconstrain, randomize, train_fn\n",
    "from gpax.plotting import plot_posterior\n",
    "\n",
    "import tensorflow_probability.substrates.jax as tfp\n",
    "tfd = tfp.distributions\n",
    "tfb = tfp.bijectors\n",
    "\n",
    "from stheno import GP, EQ\n",
    "\n",
    "import lab.jax as B\n",
    "B.epsilon = 1e-3\n",
    "from matrix import Dense, dense\n",
    "\n",
    "import regdata as rd\n",
    "\n",
    "import pprint\n",
    "pp = pprint.PrettyPrinter(depth=4)\n",
    "\n",
    "# from jax.config import config\n",
    "# config.update(\"jax_debug_nans\", True)"
   ]
  },
  {
   "cell_type": "code",
   "execution_count": 39,
   "metadata": {
    "scrolled": true
   },
   "outputs": [
    {
     "data": {
      "image/png": "[encoded data removed]",
      "text/plain": [
       "<Figure size 432x288 with 1 Axes>"
      ]
     },
     "metadata": {
      "needs_background": "light"
     },
     "output_type": "display_data"
    }
   ],
   "source": [
    "# X = jnp.linspace(-1, 1, 100).reshape(-1, 1)\n",
    "# # X = jnp.concatenate([X[:40], X[60:]])\n",
    "# key = jax.random.PRNGKey(0)\n",
    "# y = jnp.sin(2 * jnp.pi * X) + jax.random.normal(key, X.shape)*0.2\n",
    "\n",
    "X, y, X_test = rd.Olympic().get_data()\n",
    "\n",
    "plt.scatter(X, y);"
   ]
  },
  {
   "cell_type": "markdown",
   "metadata": {},
   "source": [
    "## Exact GP"
   ]
  },
  {
   "cell_type": "code",
   "execution_count": 50,
   "metadata": {},
   "outputs": [
    {
     "name": "stdout",
     "output_type": "stream",
     "text": [
      "(3, 1)\n"
     ]
    }
   ],
   "source": [
    "X_inducing = X[::12]\n",
    "print(X_inducing.shape)\n",
    "\n",
    "kernel = GibbsKernel(X_inducing=X_inducing)\n",
    "noise = HeteroscedasticNoise(use_kernel_inducing=True)\n",
    "model = ExactGP(kernel=kernel, noise=noise)\n",
    "prior = tfd.Normal(loc=0.0, scale=1.0)\n",
    "def loss_fun(params):\n",
    "#     print(params[\"kernel\"][\"latent_log_scale\"])\n",
    "#     print(prior.log_prob(params[\"kernel\"][\"latent_log_scale\"]).sum())\n",
    "    scale_prior = prior.log_prob(params[\"kernel\"][\"latent_log_scale\"]).sum()\n",
    "    var_prior = prior.log_prob(params[\"kernel\"][\"latent_log_variance\"]).sum()\n",
    "    noise_prior = prior.log_prob(params[\"noise\"][\"latent_log_noise\"]).sum()\n",
    "    return -model.log_probability(params, X, y)- scale_prior - var_prior - noise_prior"
   ]
  },
  {
   "cell_type": "code",
   "execution_count": 51,
   "metadata": {
    "scrolled": false
   },
   "outputs": [],
   "source": [
    "key = jax.random.PRNGKey(0)\n",
    "params = model.initialise_params(key, X, X_inducing)\n",
    "bijectors = model.get_bijectors()\n",
    "\n",
    "params = unconstrain(params, bijectors)\n",
    "key = jax.random.PRNGKey(0)\n",
    "params = randomize(params, key)\n",
    "# ravel_pytree(jax.value_and_grad(lambda params: loss_fun(constrain(params, bijectors)))(params)[1])"
   ]
  },
  {
   "cell_type": "code",
   "execution_count": 52,
   "metadata": {
    "scrolled": true
   },
   "outputs": [
    {
     "name": "stdout",
     "output_type": "stream",
     "text": [
      "13.957070627278485\n"
     ]
    }
   ],
   "source": [
    "key = jax.random.PRNGKey(0)\n",
    "params = model.initialise_params(key, X, X_inducing)\n",
    "bijectors = model.get_bijectors()\n",
    "\n",
    "params = unconstrain(params, bijectors)\n",
    "key = jax.random.PRNGKey(0)\n",
    "x_ind = params[\"kernel\"][\"X_inducing\"]\n",
    "params = randomize(params, key)\n",
    "params[\"kernel\"][\"X_inducing\"] = x_ind\n",
    "\n",
    "# print(ravel_pytree(constrain(params, bijectors)))\n",
    "\n",
    "# optimizer = optax.adam(1e-2)\n",
    "# num_epochs = 400\n",
    "# result = train_fn(loss_fun, params, bijectors, optimizer, num_epochs=num_epochs)\n",
    "# plt.plot(result[\"loss_history\"]);\n",
    "\n",
    "opt = jaxopt.ScipyMinimize(fun=lambda params: loss_fun(constrain(params, bijectors)), method=\"BFGS\")\n",
    "res = opt.run(params)\n",
    "result = {'params': res.params}\n",
    "print(res.state.fun_val)"
   ]
  },
  {
   "cell_type": "code",
   "execution_count": 55,
   "metadata": {
    "scrolled": true
   },
   "outputs": [
    {
     "data": {
      "image/png": "[encoded data removed]",
      "text/plain": [
       "<Figure size 432x288 with 1 Axes>"
      ]
     },
     "metadata": {
      "needs_background": "light"
     },
     "output_type": "display_data"
    }
   ],
   "source": [
    "# params = jax.tree_map(lambda x: x[98], result[\"params_history\"])\n",
    "params = result[\"params\"]\n",
    "params = constrain(params, bijectors)\n",
    "ax = plot_posterior(model, params, X, y, X_test, ax=None, alpha=0.6);\n",
    "# plt.vlines(params['kernel']['X_inducing'], *plt.ylim(), label='inducing locations', color='red')\n",
    "ax.legend(bbox_to_anchor=(1,1));"
   ]
  },
  {
   "cell_type": "code",
   "execution_count": 54,
   "metadata": {},
   "outputs": [
    {
     "ename": "KeyError",
     "evalue": "'params_history'",
     "output_type": "error",
     "traceback": [
      "\u001b[0;31m---------------------------------------------------------------------------\u001b[0m",
      "\u001b[0;31mKeyError\u001b[0m                                  Traceback (most recent call last)",
      "Input \u001b[0;32mIn [54]\u001b[0m, in \u001b[0;36m<cell line: 1>\u001b[0;34m()\u001b[0m\n\u001b[0;32m----> 1\u001b[0m cparams \u001b[38;5;241m=\u001b[39m jax\u001b[38;5;241m.\u001b[39mtree_map(\u001b[38;5;28;01mlambda\u001b[39;00m x: x[\u001b[38;5;241m98\u001b[39m], \u001b[43mresult\u001b[49m\u001b[43m[\u001b[49m\u001b[38;5;124;43m\"\u001b[39;49m\u001b[38;5;124;43mparams_history\u001b[39;49m\u001b[38;5;124;43m\"\u001b[39;49m\u001b[43m]\u001b[49m)\n\u001b[1;32m      2\u001b[0m loss_fun(constrain(cparams, bijectors))\n",
      "\u001b[0;31mKeyError\u001b[0m: 'params_history'"
     ]
    }
   ],
   "source": [
    "cparams = jax.tree_map(lambda x: x[98], result[\"params_history\"])\n",
    "loss_fun(constrain(cparams, bijectors))"
   ]
  },
  {
   "cell_type": "markdown",
   "metadata": {},
   "source": [
    "## Sparse GP"
   ]
  },
  {
   "cell_type": "code",
   "execution_count": 64,
   "metadata": {
    "scrolled": true
   },
   "outputs": [
    {
     "data": {
      "image/png": "[encoded data removed]",
      "text/plain": [
       "<Figure size 432x288 with 1 Axes>"
      ]
     },
     "metadata": {
      "needs_background": "light"
     },
     "output_type": "display_data"
    }
   ],
   "source": [
    "model = SparseGP(\n",
    "#     kernel=GibbsKernel(),\n",
    "#     noise=HeteroscedasticNoise(use_kernel_inducing=False),\n",
    "    \n",
    "    kernel=GibbsKernel(X_inducing=X_inducing),\n",
    "    noise=HeteroscedasticNoise(use_kernel_inducing=True),\n",
    "    method=\"vfe\", # \"vfe\" or \"fitc\" or \"dtc\"\n",
    ")\n",
    "\n",
    "def loss_fun(params):\n",
    "    return -model.elbo(params, X, y)\n",
    "\n",
    "optimizer = optax.adam(1e-2)\n",
    "num_epochs = 400\n",
    "\n",
    "params = model.initialise_params(key, X, X_inducing)\n",
    "bijectors = model.get_bijectors()\n",
    "\n",
    "params = unconstrain(params, bijectors)\n",
    "key = jax.random.PRNGKey(1)\n",
    "x_ind, x_ind2 = params[\"X_inducing\"], params[\"kernel\"][\"X_inducing\"]\n",
    "params = randomize(params, key)\n",
    "params[\"X_inducing\"], params[\"kernel\"][\"X_inducing\"] = x_ind, x_ind2+0.1\n",
    "\n",
    "# x_ind = params[\"X_inducing\"]\n",
    "# params = randomize(params, key)\n",
    "# params[\"X_inducing\"]= x_ind\n",
    "\n",
    "result = train_fn(loss_fun, params, bijectors, optimizer, num_epochs=num_epochs)\n",
    "\n",
    "plt.plot(result[\"loss_history\"]);"
   ]
  },
  {
   "cell_type": "code",
   "execution_count": 66,
   "metadata": {},
   "outputs": [
    {
     "data": {
      "image/png": "[encoded data removed]",
      "text/plain": [
       "<Figure size 432x288 with 1 Axes>"
      ]
     },
     "metadata": {
      "needs_background": "light"
     },
     "output_type": "display_data"
    }
   ],
   "source": [
    "params = jax.tree_map(lambda x: x[65], result[\"params_history\"])\n",
    "params = constrain(params, bijectors)\n",
    "ax = plot_posterior(model, params, X, y, X_test, ax=None, alpha=0.6)\n",
    "f = model.get_gp(params)\n",
    "pseudo_obs = model.get_pseudo_obs(params, f, X, y)\n",
    "ax.plot(params['X_inducing'], B.dense(pseudo_obs.mu(f.measure)), 'o', color='red', label='pseudo obs');\n",
    "ax.vlines(params[\"kernel\"][\"X_inducing\"], *ax.get_ylim(), label=\"kernel inducing\")\n",
    "ax.legend(bbox_to_anchor=(1.2,1));"
   ]
  },
  {
   "cell_type": "markdown",
   "metadata": {},
   "source": [
    "## Appendix"
   ]
  },
  {
   "cell_type": "code",
   "execution_count": 21,
   "metadata": {},
   "outputs": [],
   "source": []
  },
  {
   "cell_type": "code",
   "execution_count": 22,
   "metadata": {},
   "outputs": [
    {
     "data": {
      "text/plain": [
       "GibbsKernel(active_dims=None, ARD=True, X_inducing=array([[ 0.67000835],\n",
       "       [ 0.12247464],\n",
       "       [ 0.69882592],\n",
       "       [ 0.16570099],\n",
       "       [ 2.28379191],\n",
       "       [ 0.03602195],\n",
       "       [ 1.49130891],\n",
       "       [ 2.09647775],\n",
       "       [-0.67000835],\n",
       "       [-1.27517719]]), flex_scale=True, flex_variance=True)"
      ]
     },
     "execution_count": 22,
     "metadata": {},
     "output_type": "execute_result"
    }
   ],
   "source": []
  },
  {
   "cell_type": "code",
   "execution_count": null,
   "metadata": {},
   "outputs": [],
   "source": []
  }
 ],
 "metadata": {
  "kernelspec": {
   "display_name": "Python [conda env:ajax]",
   "language": "python",
   "name": "conda-env-ajax-py"
  },
  "language_info": {
   "codemirror_mode": {
    "name": "ipython",
    "version": 3
   },
   "file_extension": ".py",
   "mimetype": "text/x-python",
   "name": "python",
   "nbconvert_exporter": "python",
   "pygments_lexer": "ipython3",
   "version": "3.9.12"
  },
  "vscode": {
   "interpreter": {
    "hash": "50af141b1ed41c41f58de3ec3fe9dd8cbb2412fc7d48f41f23867b5f1be3d3c3"
   }
  }
 },
 "nbformat": 4,
 "nbformat_minor": 2
}
