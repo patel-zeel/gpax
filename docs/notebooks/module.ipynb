{
 "cells": [
  {
   "attachments": {},
   "cell_type": "markdown",
   "metadata": {},
   "source": [
    "# Modules"
   ]
  },
  {
   "attachments": {},
   "cell_type": "markdown",
   "metadata": {},
   "source": [
    "In this notebook, we will discuss the various modules of GPAX to run various Gaussian process models."
   ]
  },
  {
   "cell_type": "code",
   "execution_count": 1,
   "metadata": {},
   "outputs": [
    {
     "name": "stderr",
     "output_type": "stream",
     "text": [
      "/home/patel_zeel/miniconda3/envs/jax_gpu/lib/python3.9/site-packages/pkg_resources/__init__.py:122: PkgResourcesDeprecationWarning: LOCAL is an invalid version and will not be supported in a future release\n",
      "  warnings.warn(\n"
     ]
    }
   ],
   "source": [
    "import os\n",
    "\n",
    "os.environ[\"CUDA_VISIBLE_DEVICES\"] = \"\"\n",
    "\n",
    "import jax\n",
    "import jax.numpy as jnp\n",
    "import jax.tree_util as jtu\n",
    "\n",
    "import tensorflow_probability.substrates.jax as tfp\n",
    "\n",
    "tfd = tfp.distributions\n",
    "tfb = tfp.bijectors\n",
    "\n",
    "import matplotlib.pyplot as plt\n",
    "import arviz as az\n",
    "\n",
    "import gpax.kernels as gpk\n",
    "import gpax.likelihoods as gpl\n",
    "import gpax.models as gpm\n",
    "from gpax.means import Scalar, Average"
   ]
  },
  {
   "attachments": {},
   "cell_type": "markdown",
   "metadata": {},
   "source": [
    "## Kernels"
   ]
  },
  {
   "attachments": {},
   "cell_type": "markdown",
   "metadata": {},
   "source": [
    "Kernels are the building blocks of Gaussian process models. They are used to define the covariance function of the Gaussian process. The covariance function is a function of two inputs, $x$ and $x'$, and is provides the covariance (or similarity) between the two inputs."
   ]
  },
  {
   "attachments": {},
   "cell_type": "markdown",
   "metadata": {},
   "source": [
    "### Common kernels"
   ]
  },
  {
   "attachments": {},
   "cell_type": "markdown",
   "metadata": {},
   "source": [
    "The most commonaly used kernel is Radial Basis Function (RBF) (or squared exponential) kernel, which is defined as:\n",
    "\n",
    "$$\n",
    "k(x, x') = \\sigma^2 \\exp\\left(-\\frac{1}{2l^2} (x - x')^2\\right)\n",
    "$$"
   ]
  },
  {
   "attachments": {},
   "cell_type": "markdown",
   "metadata": {},
   "source": [
    "We can define the RBF kernel in GPAX as follows with lengthscale ($\\ell$) and variance ($\\sigma^2$):"
   ]
  },
  {
   "cell_type": "code",
   "execution_count": 2,
   "metadata": {},
   "outputs": [
    {
     "name": "stderr",
     "output_type": "stream",
     "text": [
      "2023-02-02 11:48:35.362648: E external/org_tensorflow/tensorflow/compiler/xla/stream_executor/cuda/cuda_driver.cc:267] failed call to cuInit: CUDA_ERROR_NO_DEVICE: no CUDA-capable device is detected\n",
      "WARNING:jax._src.lib.xla_bridge:No GPU/TPU found, falling back to CPU. (Set TF_CPP_MIN_LOG_LEVEL=0 and rerun for more info.)\n"
     ]
    },
    {
     "name": "stdout",
     "output_type": "stream",
     "text": [
      "Scale(RBF)\n"
     ]
    }
   ],
   "source": [
    "X = jnp.linspace(0, 1, 20).reshape(-1, 1)\n",
    "lengthscale = jnp.array(0.1)\n",
    "variance = jnp.array(0.5)\n",
    "\n",
    "base_kernel = gpk.RBF(X, lengthscale=lengthscale)\n",
    "kernel = variance * base_kernel\n",
    "print(kernel)"
   ]
  },
  {
   "attachments": {},
   "cell_type": "markdown",
   "metadata": {},
   "source": [
    "A more explicit way to define the RBF kernel (or any other kernel with variance) is as follows:"
   ]
  },
  {
   "cell_type": "code",
   "execution_count": 3,
   "metadata": {},
   "outputs": [
    {
     "name": "stdout",
     "output_type": "stream",
     "text": [
      "Scale(RBF)\n"
     ]
    }
   ],
   "source": [
    "base_kernel = gpk.RBF(X, lengthscale=lengthscale)\n",
    "kernel2 = gpk.Scale(X, base_kernel, variance=variance)\n",
    "print(kernel2)"
   ]
  },
  {
   "attachments": {},
   "cell_type": "markdown",
   "metadata": {},
   "source": [
    "We can get the kernel function by calling the `get_kernel_fn` method. Optionally, for advanced kernels, `get_kernel_fn` takes `X_inducing` as in input. This is used for inducing point based kernels. While in `train` mode, kernel returns the covariance matrix and log prior. We will see more about the log prior later, but for common kernels, it is always `zero`."
   ]
  },
  {
   "cell_type": "code",
   "execution_count": 4,
   "metadata": {},
   "outputs": [
    {
     "name": "stdout",
     "output_type": "stream",
     "text": [
      "(20, 20) 0.0\n"
     ]
    }
   ],
   "source": [
    "kernel_fn = kernel.get_kernel_fn()\n",
    "K, log_prior = kernel_fn(X, X)\n",
    "print(K.shape, log_prior)"
   ]
  },
  {
   "attachments": {},
   "cell_type": "markdown",
   "metadata": {},
   "source": [
    "Other common kernels are:\n",
    "| Kernel | Formula |\n",
    "| --- | --- |\n",
    "| Matern 3/2 | $\\sigma^2 \\left(1 + \\sqrt{3} \\frac{d}{\\ell}\\right) \\exp\\left(-\\sqrt{3} \\frac{d}{\\ell}\\right)$ |\n",
    "| Matern 5/2 | $\\sigma^2 \\left(1 + \\sqrt{5} \\frac{d}{\\ell} + \\frac{5}{3} \\frac{d^2}{\\ell^2}\\right) \\exp\\left(-\\sqrt{5} \\frac{d}{\\ell}\\right)$ |\n",
    "| Matern 1/2 or Exponential | $\\sigma^2 \\exp\\left(- \\frac{d}{\\ell}\\right)$ |\n",
    "| Periodic | $\\sigma^2 \\exp\\left(- \\frac{2 \\sin^2(\\pi d / p)}{\\ell}\\right)$ |"
   ]
  },
  {
   "cell_type": "code",
   "execution_count": 5,
   "metadata": {},
   "outputs": [],
   "source": [
    "lengthscale = jnp.array(0.1)\n",
    "\n",
    "matern32 = variance * gpk.Matern32(X, lengthscale)\n",
    "matern12 = variance * gpk.Matern12(X, lengthscale)\n",
    "matern52 = variance * gpk.Matern52(X, lengthscale)\n",
    "periodic = variance * gpk.Periodic(X, lengthscale, period=jnp.array(0.2))"
   ]
  },
  {
   "attachments": {},
   "cell_type": "markdown",
   "metadata": {},
   "source": [
    "### Special kernels"
   ]
  },
  {
   "attachments": {},
   "cell_type": "markdown",
   "metadata": {},
   "source": [
    "We have implemented various special kernels for research purposes. "
   ]
  },
  {
   "attachments": {},
   "cell_type": "markdown",
   "metadata": {},
   "source": [
    "#### Input-dependent variance ($\\sigma^2$) kernel"
   ]
  },
  {
   "attachments": {},
   "cell_type": "markdown",
   "metadata": {},
   "source": [
    "In cases, where we want to learn the variance of the kernel as a function of the input, we can use the `InputDependentScale` kernel. It takes a `base_kernel` and a `latent_model` as input. Latent models are discussed in detail in [Latent models](latent-models) section."
   ]
  },
  {
   "cell_type": "code",
   "execution_count": 6,
   "metadata": {},
   "outputs": [
    {
     "name": "stdout",
     "output_type": "stream",
     "text": [
      "InputDependentScale(RBF)\n"
     ]
    }
   ],
   "source": [
    "latent_kernel = variance * gpk.RBF(X, lengthscale=0.1)\n",
    "latent_model = gpm.LatentGPHeinonen(X, latent_kernel)\n",
    "\n",
    "base_kernel = gpk.RBF(X, lengthscale=0.2)\n",
    "kernel = gpk.InputDependentScale(X, base_kernel, latent_model)\n",
    "print(kernel)"
   ]
  },
  {
   "attachments": {},
   "cell_type": "markdown",
   "metadata": {},
   "source": [
    "Let us plot the input-dependent variance ($\\sigma^2$)."
   ]
  },
  {
   "cell_type": "code",
   "execution_count": 7,
   "metadata": {},
   "outputs": [],
   "source": [
    "def plot_kernel():\n",
    "    variable_scale, _ = kernel.latent_model(X_inducing=X)(X=X)\n",
    "    variable_variance = variable_scale ** 2\n",
    "\n",
    "    fig, ax = plt.subplots(1, 2, figsize=(10, 3))\n",
    "    ax[0].plot(X, variable_variance, label='constant variance');\n",
    "\n",
    "    K, log_prior = kernel.get_kernel_fn(X_inducing=X)(X, X)\n",
    "\n",
    "    ax[1].imshow(K);\n",
    "    return ax"
   ]
  },
  {
   "attachments": {},
   "cell_type": "markdown",
   "metadata": {},
   "source": [
    "Fixing a constant variance for all inputs. This could be a good initialization for the input-dependent variance kernel."
   ]
  },
  {
   "cell_type": "code",
   "execution_count": 8,
   "metadata": {},
   "outputs": [
    {
     "data": {
      "image/png": "[encoded data removed]",
      "text/plain": [
       "<Figure size 720x216 with 2 Axes>"
      ]
     },
     "metadata": {
      "needs_background": "light"
     },
     "output_type": "display_data"
    }
   ],
   "source": [
    "kernel.latent_model.reverse_init(jnp.array(0.1))\n",
    "ax = plot_kernel()\n",
    "ax[0].set_ylim(0, 0.02);"
   ]
  },
  {
   "attachments": {},
   "cell_type": "markdown",
   "metadata": {},
   "source": [
    "Randomizing the variance for all inputs:"
   ]
  },
  {
   "cell_type": "code",
   "execution_count": 9,
   "metadata": {},
   "outputs": [
    {
     "data": {
      "image/png": "[encoded data removed]",
      "text/plain": [
       "<Figure size 720x216 with 2 Axes>"
      ]
     },
     "metadata": {
      "needs_background": "light"
     },
     "output_type": "display_data"
    }
   ],
   "source": [
    "key = jax.random.PRNGKey(10)\n",
    "kernel.initialize(key)\n",
    "plot_kernel();"
   ]
  },
  {
   "attachments": {},
   "cell_type": "markdown",
   "metadata": {},
   "source": [
    "## Models"
   ]
  },
  {
   "cell_type": "code",
   "execution_count": 10,
   "metadata": {},
   "outputs": [
    {
     "data": {
      "image/png": "[encoded data removed]",
      "text/plain": [
       "<Figure size 432x288 with 1 Axes>"
      ]
     },
     "metadata": {
      "needs_background": "light"
     },
     "output_type": "display_data"
    }
   ],
   "source": [
    "X = jnp.linspace(0, 1, 50).reshape(-1, 1)\n",
    "X_test = jnp.linspace(0, 1, 100).reshape(-1, 1)\n",
    "key = jax.random.PRNGKey(10)\n",
    "y = (jnp.sin(2 * jnp.pi * X) + jax.random.normal(key, X.shape) * 0.2).squeeze()\n",
    "\n",
    "plt.scatter(X, y);"
   ]
  },
  {
   "cell_type": "code",
   "execution_count": 11,
   "metadata": {},
   "outputs": [
    {
     "ename": "ValueError",
     "evalue": "vmap out_axes specification must be a tree prefix of the corresponding value, got specification 0 for value tree PyTreeDef(CustomNode(ExactGPRegression[(PyTreeDef({'kernel': {'base_kernel': {'lengthscale': *}, 'variance': *}, 'likelihood': {'scale': *}, 'mean': {'value': *}}), Scale(RBF), <gpax.likelihoods.Gaussian object at 0x7fae8c67a520>, <gpax.means.Scalar object at 0x7fae942a9310>)], [*, *, *, *])).",
     "output_type": "error",
     "traceback": [
      "\u001b[0;31m---------------------------------------------------------------------------\u001b[0m",
      "\u001b[0;31mValueError\u001b[0m                                Traceback (most recent call last)",
      "\u001b[1;32m/home/patel_zeel/gpax/docs/docs/module.ipynb Cell 29\u001b[0m in \u001b[0;36m<cell line: 10>\u001b[0;34m()\u001b[0m\n\u001b[1;32m      <a href='vscode-notebook-cell://ssh-remote%2B7b22686f73744e616d65223a2252616d616e756a616e227d/home/patel_zeel/gpax/docs/docs/module.ipynb#X45sdnNjb2RlLXJlbW90ZQ%3D%3D?line=5'>6</a>\u001b[0m \u001b[39mdef\u001b[39;00m \u001b[39mfit_fn\u001b[39m(key):\n\u001b[1;32m      <a href='vscode-notebook-cell://ssh-remote%2B7b22686f73744e616d65223a2252616d616e756a616e227d/home/patel_zeel/gpax/docs/docs/module.ipynb#X45sdnNjb2RlLXJlbW90ZQ%3D%3D?line=6'>7</a>\u001b[0m     \u001b[39m# model.fit(key, X, y, lr=0.01, epochs=100)\u001b[39;00m\n\u001b[1;32m      <a href='vscode-notebook-cell://ssh-remote%2B7b22686f73744e616d65223a2252616d616e756a616e227d/home/patel_zeel/gpax/docs/docs/module.ipynb#X45sdnNjb2RlLXJlbW90ZQ%3D%3D?line=7'>8</a>\u001b[0m     \u001b[39mreturn\u001b[39;00m model\n\u001b[0;32m---> <a href='vscode-notebook-cell://ssh-remote%2B7b22686f73744e616d65223a2252616d616e756a616e227d/home/patel_zeel/gpax/docs/docs/module.ipynb#X45sdnNjb2RlLXJlbW90ZQ%3D%3D?line=9'>10</a>\u001b[0m models \u001b[39m=\u001b[39m jax\u001b[39m.\u001b[39;49mvmap(fit_fn)(keys)\n\u001b[1;32m     <a href='vscode-notebook-cell://ssh-remote%2B7b22686f73744e616d65223a2252616d616e756a616e227d/home/patel_zeel/gpax/docs/docs/module.ipynb#X45sdnNjb2RlLXJlbW90ZQ%3D%3D?line=11'>12</a>\u001b[0m \u001b[39m# pred_mean, pred_cov = model.predict(X, y, X_test)\u001b[39;00m\n\u001b[1;32m     <a href='vscode-notebook-cell://ssh-remote%2B7b22686f73744e616d65223a2252616d616e756a616e227d/home/patel_zeel/gpax/docs/docs/module.ipynb#X45sdnNjb2RlLXJlbW90ZQ%3D%3D?line=12'>13</a>\u001b[0m \n\u001b[1;32m     <a href='vscode-notebook-cell://ssh-remote%2B7b22686f73744e616d65223a2252616d616e756a616e227d/home/patel_zeel/gpax/docs/docs/module.ipynb#X45sdnNjb2RlLXJlbW90ZQ%3D%3D?line=13'>14</a>\u001b[0m \u001b[39m# plt.scatter(X, y)\u001b[39;00m\n\u001b[0;32m   (...)\u001b[0m\n\u001b[1;32m     <a href='vscode-notebook-cell://ssh-remote%2B7b22686f73744e616d65223a2252616d616e756a616e227d/home/patel_zeel/gpax/docs/docs/module.ipynb#X45sdnNjb2RlLXJlbW90ZQ%3D%3D?line=20'>21</a>\u001b[0m \u001b[39m#     alpha=0.2,\u001b[39;00m\n\u001b[1;32m     <a href='vscode-notebook-cell://ssh-remote%2B7b22686f73744e616d65223a2252616d616e756a616e227d/home/patel_zeel/gpax/docs/docs/module.ipynb#X45sdnNjb2RlLXJlbW90ZQ%3D%3D?line=21'>22</a>\u001b[0m \u001b[39m# );\u001b[39;00m\n\u001b[1;32m     <a href='vscode-notebook-cell://ssh-remote%2B7b22686f73744e616d65223a2252616d616e756a616e227d/home/patel_zeel/gpax/docs/docs/module.ipynb#X45sdnNjb2RlLXJlbW90ZQ%3D%3D?line=22'>23</a>\u001b[0m jtu\u001b[39m.\u001b[39mtree_leaves(models)\n",
      "    \u001b[0;31m[... skipping hidden 5 frame]\u001b[0m\n",
      "File \u001b[0;32m~/miniconda3/envs/jax_gpu/lib/python3.9/site-packages/jax/_src/api_util.py:418\u001b[0m, in \u001b[0;36mflatten_axes\u001b[0;34m(name, treedef, axis_tree, kws, tupled_args)\u001b[0m\n\u001b[1;32m    414\u001b[0m       \u001b[39melse\u001b[39;00m:\n\u001b[1;32m    415\u001b[0m         hint \u001b[39m+\u001b[39m\u001b[39m=\u001b[39m (\u001b[39mf\u001b[39m\u001b[39m\"\u001b[39m\u001b[39m In particular, you\u001b[39m\u001b[39m'\u001b[39m\u001b[39mre passing in a single argument which \u001b[39m\u001b[39m\"\u001b[39m\n\u001b[1;32m    416\u001b[0m                  \u001b[39mf\u001b[39m\u001b[39m\"\u001b[39m\u001b[39mmeans that \u001b[39m\u001b[39m{\u001b[39;00mname\u001b[39m}\u001b[39;00m\u001b[39m might need to be wrapped in \u001b[39m\u001b[39m\"\u001b[39m\n\u001b[1;32m    417\u001b[0m                  \u001b[39mf\u001b[39m\u001b[39m\"\u001b[39m\u001b[39ma singleton tuple.\u001b[39m\u001b[39m\"\u001b[39m)\n\u001b[0;32m--> 418\u001b[0m   \u001b[39mraise\u001b[39;00m \u001b[39mValueError\u001b[39;00m(\u001b[39mf\u001b[39m\u001b[39m\"\u001b[39m\u001b[39m{\u001b[39;00mname\u001b[39m}\u001b[39;00m\u001b[39m specification must be a tree prefix of the \u001b[39m\u001b[39m\"\u001b[39m\n\u001b[1;32m    419\u001b[0m                    \u001b[39mf\u001b[39m\u001b[39m\"\u001b[39m\u001b[39mcorresponding value, got specification \u001b[39m\u001b[39m{\u001b[39;00maxis_tree\u001b[39m}\u001b[39;00m\u001b[39m \u001b[39m\u001b[39m\"\u001b[39m\n\u001b[1;32m    420\u001b[0m                    \u001b[39mf\u001b[39m\u001b[39m\"\u001b[39m\u001b[39mfor value tree \u001b[39m\u001b[39m{\u001b[39;00mtreedef\u001b[39m}\u001b[39;00m\u001b[39m.\u001b[39m\u001b[39m{\u001b[39;00mhint\u001b[39m}\u001b[39;00m\u001b[39m\"\u001b[39m) \u001b[39mfrom\u001b[39;00m \u001b[39mNone\u001b[39m\n\u001b[1;32m    421\u001b[0m axes \u001b[39m=\u001b[39m [\u001b[39mNone\u001b[39;00m \u001b[39mif\u001b[39;00m a \u001b[39mis\u001b[39;00m proxy \u001b[39melse\u001b[39;00m a \u001b[39mfor\u001b[39;00m a \u001b[39min\u001b[39;00m axes]\n\u001b[1;32m    422\u001b[0m \u001b[39massert\u001b[39;00m \u001b[39mlen\u001b[39m(axes) \u001b[39m==\u001b[39m treedef\u001b[39m.\u001b[39mnum_leaves\n",
      "\u001b[0;31mValueError\u001b[0m: vmap out_axes specification must be a tree prefix of the corresponding value, got specification 0 for value tree PyTreeDef(CustomNode(ExactGPRegression[(PyTreeDef({'kernel': {'base_kernel': {'lengthscale': *}, 'variance': *}, 'likelihood': {'scale': *}, 'mean': {'value': *}}), Scale(RBF), <gpax.likelihoods.Gaussian object at 0x7fae8c67a520>, <gpax.means.Scalar object at 0x7fae942a9310>)], [*, *, *, *]))."
     ]
    }
   ],
   "source": [
    "kernel = jnp.array(1.0) * gpk.RBF(X, lengthscale=jnp.array(0.1))\n",
    "model = gpm.ExactGPRegression(kernel, gpl.Gaussian(scale=jnp.array(1.0)), Scalar(value=jnp.array(0.0)))\n",
    "key = jax.random.PRNGKey(0)\n",
    "keys = jax.random.split(key, 5)\n",
    "\n",
    "def fit_fn(key):\n",
    "    # model.fit(key, X, y, lr=0.01, epochs=100)\n",
    "    return model\n",
    "\n",
    "models = jax.vmap(fit_fn)(keys)\n",
    "\n",
    "# pred_mean, pred_cov = model.predict(X, y, X_test)\n",
    "\n",
    "# plt.scatter(X, y)\n",
    "# plt.plot(X_test, pred_mean, color='red');\n",
    "# plt.fill_between(\n",
    "#     X_test.squeeze(),\n",
    "#     pred_mean - 2 * jnp.sqrt(pred_cov.diagonal()),\n",
    "#     pred_mean + 2 * jnp.sqrt(pred_cov.diagonal()),\n",
    "#     color='red',\n",
    "#     alpha=0.2,\n",
    "# );\n",
    "# jtu.tree_leaves(models)"
   ]
  },
  {
   "attachments": {},
   "cell_type": "markdown",
   "metadata": {},
   "source": [
    "(latent-models)=\n",
    "### Latent Models"
   ]
  },
  {
   "cell_type": "code",
   "execution_count": null,
   "metadata": {},
   "outputs": [
    {
     "name": "stdout",
     "output_type": "stream",
     "text": [
      "init <class 'jax.interpreters.batching.BatchTracer'>\n",
      "unflatten <class 'object'>\n",
      "init <class 'object'>\n",
      "unflatten <class 'jaxlib.xla_extension.DeviceArray'>\n",
      "init <class 'jaxlib.xla_extension.DeviceArray'>\n"
     ]
    },
    {
     "data": {
      "text/plain": [
       "([DeviceArray([0., 1., 2.], dtype=float32, weak_type=True),\n",
       "  DeviceArray([0., 1., 2.], dtype=float32, weak_type=True)],\n",
       " PyTreeDef(CustomNode(Special[<__main__.Special object at 0x7f629c781f40>], [*, *])))"
      ]
     },
     "execution_count": 12,
     "metadata": {},
     "output_type": "execute_result"
    }
   ],
   "source": [
    "@jtu.register_pytree_node_class\n",
    "class Special:\n",
    "  def __init__(self, x, y):\n",
    "    print(\"init\", type(x))\n",
    "    self.x = x\n",
    "    self.y = y\n",
    "  def tree_flatten(self):\n",
    "    return ((self.x, self.y), self)\n",
    "  @classmethod\n",
    "  def tree_unflatten(cls, aux, children):\n",
    "    print(\"unflatten\", type(children[0]))\n",
    "    return Special(*children)\n",
    "\n",
    "def get_it(x, y):\n",
    "    a = Special(x, y)\n",
    "    a.x, a.y = x, y\n",
    "    return a\n",
    "\n",
    "a = jax.vmap(get_it)(jnp.arange(3)*1.0, jnp.arange(3)*1.0)\n",
    "jtu.tree_flatten(a)"
   ]
  },
  {
   "cell_type": "code",
   "execution_count": null,
   "metadata": {},
   "outputs": [],
   "source": []
  }
 ],
 "metadata": {
  "kernelspec": {
   "display_name": "jax_gpu",
   "language": "python",
   "name": "python3"
  },
  "language_info": {
   "codemirror_mode": {
    "name": "ipython",
    "version": 3
   },
   "file_extension": ".py",
   "mimetype": "text/x-python",
   "name": "python",
   "nbconvert_exporter": "python",
   "pygments_lexer": "ipython3",
   "version": "3.9.12"
  },
  "orig_nbformat": 4,
  "vscode": {
   "interpreter": {
    "hash": "9052b22ca390d445be546c3044ec1d5126a8aeba9d3c8f88b3439e2169c91513"
   }
  }
 },
 "nbformat": 4,
 "nbformat_minor": 2
}
