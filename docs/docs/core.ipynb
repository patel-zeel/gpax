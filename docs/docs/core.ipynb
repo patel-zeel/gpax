{
 "cells": [
  {
   "attachments": {},
   "cell_type": "markdown",
   "metadata": {},
   "source": [
    "# Core"
   ]
  },
  {
   "attachments": {},
   "cell_type": "markdown",
   "metadata": {},
   "source": [
    "In this notebook, we will go through the core functionality of the GPAX library."
   ]
  },
  {
   "cell_type": "code",
   "execution_count": 1,
   "metadata": {},
   "outputs": [
    {
     "name": "stderr",
     "output_type": "stream",
     "text": [
      "/home/patel_zeel/miniconda3/envs/jax_gpu/lib/python3.9/site-packages/pkg_resources/__init__.py:122: PkgResourcesDeprecationWarning: LOCAL is an invalid version and will not be supported in a future release\n",
      "  warnings.warn(\n"
     ]
    }
   ],
   "source": [
    "import os\n",
    "\n",
    "os.environ[\"CUDA_VISIBLE_DEVICES\"] = \"0\"\n",
    "\n",
    "import jax\n",
    "import jax.numpy as jnp\n",
    "import jax.tree_util as jtu\n",
    "\n",
    "import tensorflow_probability.substrates.jax as tfp\n",
    "\n",
    "tfd = tfp.distributions\n",
    "tfb = tfp.bijectors\n",
    "\n",
    "import arviz as az\n",
    "\n",
    "from gpax.core import (\n",
    "    Parameter,\n",
    "    Module,\n",
    "    get_default_jitter,\n",
    "    set_default_jitter,\n",
    "    get_default_prior,\n",
    "    set_default_prior,\n",
    "    get_positive_bijector,\n",
    "    set_positive_bijector,\n",
    ")"
   ]
  },
  {
   "attachments": {},
   "cell_type": "markdown",
   "metadata": {},
   "source": [
    "## Parameter"
   ]
  },
  {
   "attachments": {},
   "cell_type": "markdown",
   "metadata": {},
   "source": [
    "Parameter object contains mainly three components:\n",
    "1. Value of the parameter which is a `jax` array.\n",
    "2. Bijector for the parameter. This is a `tfb` object. It is used to constrain the parameter in a certain range.\n",
    "3. Prior distribution of the parameter. This is a `tfd` object. It is used to either sample from the prior or compute the log probability of the parameter."
   ]
  },
  {
   "attachments": {},
   "cell_type": "markdown",
   "metadata": {},
   "source": [
    "### Creating a parameter"
   ]
  },
  {
   "attachments": {},
   "cell_type": "markdown",
   "metadata": {},
   "source": [
    "By default, the bijector is `tfb.Identity()` and the prior is `None`."
   ]
  },
  {
   "cell_type": "code",
   "execution_count": 2,
   "metadata": {},
   "outputs": [
    {
     "name": "stdout",
     "output_type": "stream",
     "text": [
      "param = Parameter(shape=(2,))\n",
      "param.bijector = <tfp.bijectors.Identity 'identity' batch_shape=[] forward_min_event_ndims=0 inverse_min_event_ndims=0 dtype_x=? dtype_y=?>\n",
      "param.prior = None\n"
     ]
    }
   ],
   "source": [
    "param = Parameter(value=[0.0, 1.0])\n",
    "print(f\"{param = }\")\n",
    "print(f\"{param.bijector = }\")\n",
    "print(f\"{param.prior = }\")"
   ]
  },
  {
   "attachments": {},
   "cell_type": "markdown",
   "metadata": {},
   "source": [
    "If, prior is set and bijector is not set, then the bijector will be infered automatically using `_default_event_space_bijector()` method of `tfd` objects. For example, `tfb.Softplus` is the default bijector for `tfd.Exponential` prior."
   ]
  },
  {
   "cell_type": "code",
   "execution_count": 3,
   "metadata": {},
   "outputs": [
    {
     "name": "stdout",
     "output_type": "stream",
     "text": [
      "param = Parameter(shape=(2,))\n",
      "param.bijector = <tfp.bijectors.Softplus 'softplus' batch_shape=[] forward_min_event_ndims=0 inverse_min_event_ndims=0 dtype_x=? dtype_y=?>\n",
      "param.prior = <tfp.distributions.Exponential 'Exponential' batch_shape=[] event_shape=[] dtype=float32>\n"
     ]
    }
   ],
   "source": [
    "param = Parameter(value=[0.5, 1.0], prior=tfd.Exponential(rate=1.0))\n",
    "print(f\"{param = }\")\n",
    "print(f\"{param.bijector = }\")\n",
    "print(f\"{param.prior = }\")"
   ]
  },
  {
   "attachments": {},
   "cell_type": "markdown",
   "metadata": {},
   "source": [
    "If bijector is set and prior is not set, prior will be set to `None`, i.e. no prior. This is useful when you want to constrain the parameter but do not want to use a prior.  "
   ]
  },
  {
   "cell_type": "code",
   "execution_count": 4,
   "metadata": {},
   "outputs": [
    {
     "name": "stdout",
     "output_type": "stream",
     "text": [
      "param = Parameter(shape=(2,))\n",
      "param.bijector = <tfp.bijectors.Exp 'exp' batch_shape=[] forward_min_event_ndims=0 inverse_min_event_ndims=0 dtype_x=? dtype_y=?>\n",
      "param.prior = None\n"
     ]
    }
   ],
   "source": [
    "param = Parameter(value=[0.5, 1.0], bijector=tfb.Exp())\n",
    "print(f\"{param = }\")\n",
    "print(f\"{param.bijector = }\")\n",
    "print(f\"{param.prior = }\")"
   ]
  },
  {
   "attachments": {},
   "cell_type": "markdown",
   "metadata": {},
   "source": [
    "Note that, value is always stored in unconstrained space. Which means that, if we pass a value to the parameter, it will be inverse transformed by the bijector before being stored."
   ]
  },
  {
   "cell_type": "code",
   "execution_count": 5,
   "metadata": {},
   "outputs": [
    {
     "name": "stdout",
     "output_type": "stream",
     "text": [
      "[-0.6931472   0.40546513]\n"
     ]
    }
   ],
   "source": [
    "param = Parameter(value=[0.5, 1.5], bijector=tfb.Exp())\n",
    "print(param._raw_value)"
   ]
  },
  {
   "attachments": {},
   "cell_type": "markdown",
   "metadata": {},
   "source": [
    "`_raw_value` is not a recommended way to access the value of a parameter. We will see how to access the value of a parameter in the next section."
   ]
  },
  {
   "attachments": {},
   "cell_type": "markdown",
   "metadata": {},
   "source": [
    "### Get values"
   ]
  },
  {
   "cell_type": "code",
   "execution_count": 6,
   "metadata": {},
   "outputs": [],
   "source": [
    "param = Parameter(value=jnp.ones((2,)) * 2.0, bijector=tfb.Exp(), prior=None)"
   ]
  },
  {
   "attachments": {},
   "cell_type": "markdown",
   "metadata": {},
   "source": [
    "We can access the value of a parameter in two ways. When the value is accessed in this way, underlying `_raw_value` is constrained by the bijector on the fly and returned. "
   ]
  },
  {
   "cell_type": "code",
   "execution_count": 7,
   "metadata": {},
   "outputs": [
    {
     "name": "stdout",
     "output_type": "stream",
     "text": [
      "[2. 2.]\n",
      "[2. 2.]\n",
      "<class 'jaxlib.xla_extension.DeviceArray'>\n"
     ]
    }
   ],
   "source": [
    "print(param())\n",
    "print(param.get_value())\n",
    "print(type(param()))"
   ]
  },
  {
   "attachments": {},
   "cell_type": "markdown",
   "metadata": {},
   "source": [
    "We can get the raw values in this way:"
   ]
  },
  {
   "cell_type": "code",
   "execution_count": 8,
   "metadata": {},
   "outputs": [
    {
     "name": "stdout",
     "output_type": "stream",
     "text": [
      "[0.6931472 0.6931472]\n"
     ]
    }
   ],
   "source": [
    "print(param.get_raw_value())"
   ]
  },
  {
   "attachments": {},
   "cell_type": "markdown",
   "metadata": {},
   "source": [
    "### Set values"
   ]
  },
  {
   "attachments": {},
   "cell_type": "markdown",
   "metadata": {},
   "source": [
    "We can set values to a parameters in two ways. The following way is used if we want to set the values which are in constrained space."
   ]
  },
  {
   "cell_type": "code",
   "execution_count": 9,
   "metadata": {},
   "outputs": [
    {
     "name": "stdout",
     "output_type": "stream",
     "text": [
      "[2. 2.] float32\n"
     ]
    }
   ],
   "source": [
    "param.set_value([2.0, 2.0])\n",
    "print(param(), param().dtype)"
   ]
  },
  {
   "attachments": {},
   "cell_type": "markdown",
   "metadata": {},
   "source": [
    "To set the values which are in the unconstrained space, we can use the following way:"
   ]
  },
  {
   "cell_type": "code",
   "execution_count": 10,
   "metadata": {},
   "outputs": [
    {
     "name": "stdout",
     "output_type": "stream",
     "text": [
      "[1.8221189 1.8221189] float32\n"
     ]
    }
   ],
   "source": [
    "param.set_raw_value([0.6, 0.6])\n",
    "print(param(), param().dtype)"
   ]
  },
  {
   "attachments": {},
   "cell_type": "markdown",
   "metadata": {},
   "source": [
    "### Random initialization"
   ]
  },
  {
   "attachments": {},
   "cell_type": "markdown",
   "metadata": {},
   "source": [
    "When we call the `initialize` method, the parameter is initialized randomly from the prior distribution."
   ]
  },
  {
   "cell_type": "code",
   "execution_count": 11,
   "metadata": {},
   "outputs": [
    {
     "data": {
      "image/png": "[encoded data removed]",
      "text/plain": [
       "<Figure size 460.8x345.6 with 1 Axes>"
      ]
     },
     "metadata": {
      "needs_background": "light"
     },
     "output_type": "display_data"
    }
   ],
   "source": [
    "param = Parameter(value=jnp.ones(1000), bijector=tfb.Exp(), prior=tfd.Exponential(rate=1.0))\n",
    "\n",
    "key = jax.random.PRNGKey(0)\n",
    "param.initialize(key)\n",
    "\n",
    "az.plot_dist(param());"
   ]
  },
  {
   "attachments": {},
   "cell_type": "markdown",
   "metadata": {},
   "source": [
    "If the prior is `None`, `raw_value` of the parameter is initialized using `DEFAULT_PRIOR` distribution which is $\\mathcal{N}(0, 1)$."
   ]
  },
  {
   "cell_type": "code",
   "execution_count": 12,
   "metadata": {},
   "outputs": [
    {
     "data": {
      "image/png": "[encoded data removed]",
      "text/plain": [
       "<Figure size 432x288 with 1 Axes>"
      ]
     },
     "metadata": {
      "needs_background": "light"
     },
     "output_type": "display_data"
    }
   ],
   "source": [
    "param = Parameter(value=jnp.ones(1000), bijector=tfb.Softplus())\n",
    "\n",
    "key = jax.random.PRNGKey(0)\n",
    "param.initialize(key)\n",
    "\n",
    "az.plot_dist(param.get_raw_value(), color=\"r\", label=\"raw values\")\n",
    "az.plot_dist(param(), color=\"k\", label=\"constrained values\");"
   ]
  },
  {
   "attachments": {},
   "cell_type": "markdown",
   "metadata": {},
   "source": [
    "### Get log probability"
   ]
  },
  {
   "attachments": {},
   "cell_type": "markdown",
   "metadata": {},
   "source": [
    "We can also compute log probability of a parameter using the `log_prob` method."
   ]
  },
  {
   "cell_type": "code",
   "execution_count": 13,
   "metadata": {},
   "outputs": [
    {
     "name": "stdout",
     "output_type": "stream",
     "text": [
      "(1000,)\n",
      "-992.31934\n"
     ]
    }
   ],
   "source": [
    "param = Parameter(value=jnp.ones(1000), bijector=tfb.Softplus(), prior=tfd.Exponential(rate=1.0))\n",
    "\n",
    "key = jax.random.PRNGKey(0)\n",
    "param.initialize(key)\n",
    "log_probs = param.log_prob()\n",
    "print(log_probs.shape)\n",
    "print(log_probs.sum())"
   ]
  },
  {
   "attachments": {},
   "cell_type": "markdown",
   "metadata": {},
   "source": [
    "### Enable/Disable trainability"
   ]
  },
  {
   "attachments": {},
   "cell_type": "markdown",
   "metadata": {},
   "source": [
    "We can use the `trainable` method to enable or disable the training of a parameter. Note that, `trainable` method returns the parameter itself. So, we can use it in a chain."
   ]
  },
  {
   "cell_type": "code",
   "execution_count": 14,
   "metadata": {},
   "outputs": [
    {
     "name": "stdout",
     "output_type": "stream",
     "text": [
      "[2. 4. 8.]\n",
      "[0. 0. 0.]\n"
     ]
    }
   ],
   "source": [
    "def fun_trainable(x):\n",
    "    param = Parameter(value=x, bijector=tfb.Softplus())\n",
    "    return (param() ** 2).sum()\n",
    "\n",
    "\n",
    "def fun_non_trainable(x):\n",
    "    param = Parameter(value=x, bijector=tfb.Softplus()).trainable(False)\n",
    "    return (param() ** 2).sum()\n",
    "\n",
    "\n",
    "print(jax.grad(fun_trainable)(jnp.array([1.0, 2.0, 4.0])))\n",
    "print(jax.grad(fun_non_trainable)(jnp.array([1.0, 2.0, 3.0])))"
   ]
  },
  {
   "attachments": {},
   "cell_type": "markdown",
   "metadata": {},
   "source": [
    "We can see the gradient of the parameter is zero when it is not trainable."
   ]
  },
  {
   "attachments": {},
   "cell_type": "markdown",
   "metadata": {},
   "source": [
    "## Module"
   ]
  },
  {
   "attachments": {},
   "cell_type": "markdown",
   "metadata": {},
   "source": [
    "`Module` is a core class from which all other modules of GPAX are derived. It shares a few common functionalities with `torch.nn.Module` but has additional features as needed for GPAX. There are two core properties of a module:\n",
    "1. Parameters: A list of parameters of the module stored in `self._parameters` dictionary.\n",
    "2. Submodules: A list of submodules of the module stored in `self._modules` dictionary.\n",
    "\n",
    "We will create an example module to understand the core functionalities of a module."
   ]
  },
  {
   "cell_type": "code",
   "execution_count": 15,
   "metadata": {},
   "outputs": [],
   "source": [
    "class Child_A(Module):\n",
    "    def __init__(self, value):\n",
    "        super().__init__()\n",
    "        self.param_a = Parameter(value=value, bijector=tfb.Exp(), prior=tfd.HalfNormal(scale=1.0))\n",
    "\n",
    "\n",
    "class Child_B(Module):\n",
    "    def __init__(self, value):\n",
    "        super().__init__()\n",
    "        self.param_b = Parameter(value=value, bijector=tfb.Exp())\n",
    "\n",
    "\n",
    "class Parent(Module):\n",
    "    def __init__(self, value_a, value_b):\n",
    "        super().__init__()\n",
    "        self.child_a = Child_A(value=value_a)\n",
    "        self.child_b = Child_B(value=value_b)"
   ]
  },
  {
   "attachments": {},
   "cell_type": "markdown",
   "metadata": {},
   "source": [
    "Few things to note here:\n",
    "1. Any `Parameter` object assigned to `self` is automatically added to the `self._parameters` dictionary.\n",
    "2. Any `Module` object object assigned to `self` is automatically added to the `self._modules` dictionary."
   ]
  },
  {
   "attachments": {},
   "cell_type": "markdown",
   "metadata": {},
   "source": [
    "(module-get-params)=\n",
    "### Get parameters"
   ]
  },
  {
   "attachments": {},
   "cell_type": "markdown",
   "metadata": {},
   "source": [
    "We can recursively get the parameters of a module and its submodules using either `get_parameters` or `get_raw_parameters` method. The difference between these two methods is that, `get_parameters` returns the constrained values of the parameters while `get_raw_parameters` returns the unconstrained values of the parameters."
   ]
  },
  {
   "cell_type": "code",
   "execution_count": 16,
   "metadata": {},
   "outputs": [
    {
     "name": "stdout",
     "output_type": "stream",
     "text": [
      "{'child_a': {'param_a': DeviceArray([1., 2.], dtype=float32)}, 'child_b': {'param_b': DeviceArray([3., 4.], dtype=float32)}}\n",
      "{'child_a': {'param_a': DeviceArray([0.       , 0.6931472], dtype=float32)}, 'child_b': {'param_b': DeviceArray([1.0986123, 1.3862944], dtype=float32)}}\n"
     ]
    }
   ],
   "source": [
    "module = Parent(value_a=[1.0, 2.0], value_b=[3.0, 4.0])\n",
    "print(module.get_parameters())\n",
    "print(module.get_raw_parameters())"
   ]
  },
  {
   "attachments": {},
   "cell_type": "markdown",
   "metadata": {},
   "source": [
    "In case, you'd like to return the parameters as objects and not as a dictionary, you can do this:"
   ]
  },
  {
   "cell_type": "code",
   "execution_count": 17,
   "metadata": {},
   "outputs": [
    {
     "name": "stdout",
     "output_type": "stream",
     "text": [
      "{'child_a': {'param_a': Parameter(shape=(2,))}, 'child_b': {'param_b': Parameter(shape=(2,))}}\n"
     ]
    }
   ],
   "source": [
    "print(module.get_parameters(raw_dict=False))"
   ]
  },
  {
   "attachments": {},
   "cell_type": "markdown",
   "metadata": {},
   "source": [
    "### Set parameters"
   ]
  },
  {
   "attachments": {},
   "cell_type": "markdown",
   "metadata": {},
   "source": [
    "We can modify the parameter dictionary returned by the methods shown in [Get parameters](module-get-params) and set them back to the module using either `set_parameters` or `set_raw_parameters` method. The difference between these two methods is that, `set_parameters` sets the constrained values of the parameters while `set_raw_parameters` sets the unconstrained values of the parameters."
   ]
  },
  {
   "cell_type": "code",
   "execution_count": 18,
   "metadata": {},
   "outputs": [
    {
     "name": "stdout",
     "output_type": "stream",
     "text": [
      "{'child_a': {'param_a': DeviceArray([0.       , 0.6931472], dtype=float32)}, 'child_b': {'param_b': DeviceArray([1.0986123, 1.3862944], dtype=float32)}}\n"
     ]
    }
   ],
   "source": [
    "module = Parent(value_a=[1.0, 2.0], value_b=[3.0, 4.0])\n",
    "raw_values = module.get_raw_parameters()\n",
    "print(raw_values)"
   ]
  },
  {
   "cell_type": "code",
   "execution_count": 19,
   "metadata": {},
   "outputs": [
    {
     "name": "stdout",
     "output_type": "stream",
     "text": [
      "{'child_a': {'param_a': DeviceArray([0.5, 0.5], dtype=float32)}, 'child_b': {'param_b': DeviceArray([1.0986123, 1.3862944], dtype=float32)}}\n"
     ]
    }
   ],
   "source": [
    "raw_values[\"child_a\"][\"param_a\"] = jnp.array([0.5, 0.5])\n",
    "module.set_raw_parameters(raw_values)\n",
    "print(module.get_raw_parameters())"
   ]
  },
  {
   "attachments": {},
   "cell_type": "markdown",
   "metadata": {},
   "source": [
    "### Random initialization"
   ]
  },
  {
   "attachments": {},
   "cell_type": "markdown",
   "metadata": {},
   "source": [
    "When we call the `initialize` method, all the parameters of the module and its submodules are initialized randomly from their prior distributions."
   ]
  },
  {
   "cell_type": "code",
   "execution_count": 20,
   "metadata": {},
   "outputs": [
    {
     "name": "stdout",
     "output_type": "stream",
     "text": [
      "{'child_a': {'param_a': DeviceArray([1., 2.], dtype=float32)}, 'child_b': {'param_b': DeviceArray([3., 4.], dtype=float32)}}\n",
      "{'child_a': {'param_a': DeviceArray([0.00870701, 0.04888523], dtype=float32)}, 'child_b': {'param_b': DeviceArray([1.1799661, 0.8048073], dtype=float32)}}\n"
     ]
    }
   ],
   "source": [
    "module = Parent(value_a=[1.0, 2.0], value_b=[3.0, 4.0])\n",
    "print(module.get_parameters())\n",
    "\n",
    "key = jax.random.PRNGKey(0)\n",
    "module.initialize(key)\n",
    "\n",
    "print(module.get_parameters())"
   ]
  },
  {
   "attachments": {},
   "cell_type": "markdown",
   "metadata": {},
   "source": [
    "### Get log probability"
   ]
  },
  {
   "attachments": {},
   "cell_type": "markdown",
   "metadata": {},
   "source": [
    "We can compute log probability of all the parameters of the module and its submodules using the `log_prob` method."
   ]
  },
  {
   "cell_type": "code",
   "execution_count": 21,
   "metadata": {},
   "outputs": [
    {
     "name": "stdout",
     "output_type": "stream",
     "text": [
      "-2.951583\n",
      "{'child_a': {'param_a': DeviceArray([-0.72579134, -2.2257915 ], dtype=float32)}, 'child_b': {'param_b': DeviceArray([0., 0.], dtype=float32)}}\n"
     ]
    }
   ],
   "source": [
    "module = Parent(value_a=[1.0, 2.0], value_b=[3.0, 4.0])\n",
    "print(module.log_prob())\n",
    "print(module.log_prob(reduce=False))  # log_prob for each parameter"
   ]
  },
  {
   "attachments": {},
   "cell_type": "markdown",
   "metadata": {},
   "source": [
    "### Enable/Disable trainability"
   ]
  },
  {
   "attachments": {},
   "cell_type": "markdown",
   "metadata": {},
   "source": [
    "We can use the `trainable` method to enable or disable the training of all the parameters of the module and its submodules. Note that, `trainable` method returns the module itself. So, we can use it in a chain."
   ]
  },
  {
   "cell_type": "code",
   "execution_count": 22,
   "metadata": {},
   "outputs": [
    {
     "data": {
      "text/plain": [
       "<__main__.Parent at 0x7f0f2c2e6e50>"
      ]
     },
     "execution_count": 22,
     "metadata": {},
     "output_type": "execute_result"
    }
   ],
   "source": [
    "module = Parent(value_a=[1.0, 2.0], value_b=[3.0, 4.0])\n",
    "module = module.trainable(False)\n",
    "\n",
    "module"
   ]
  },
  {
   "attachments": {},
   "cell_type": "markdown",
   "metadata": {},
   "source": [
    "## Get or set defaults"
   ]
  },
  {
   "attachments": {},
   "cell_type": "markdown",
   "metadata": {},
   "source": [
    "There are several default values which are used in GPAX. For example, `DEFAULT_PRIOR` is the default prior distribution used for initializing the parameters. We can get or set these default values using the following methods:"
   ]
  },
  {
   "attachments": {},
   "cell_type": "markdown",
   "metadata": {},
   "source": [
    "### Default prior"
   ]
  },
  {
   "cell_type": "code",
   "execution_count": 23,
   "metadata": {},
   "outputs": [
    {
     "name": "stdout",
     "output_type": "stream",
     "text": [
      "tfp.distributions.Normal(\"Normal\", batch_shape=[], event_shape=[], dtype=float32)\n",
      "tfp.distributions.Exponential(\"Exponential\", batch_shape=[], event_shape=[], dtype=float32)\n"
     ]
    }
   ],
   "source": [
    "default_prior = get_default_prior()\n",
    "print(default_prior)\n",
    "set_default_prior(tfd.Exponential(rate=1.0))\n",
    "default_prior = get_default_prior()\n",
    "print(default_prior)"
   ]
  },
  {
   "attachments": {},
   "cell_type": "markdown",
   "metadata": {},
   "source": [
    "### Default positive bijection"
   ]
  },
  {
   "cell_type": "code",
   "execution_count": 24,
   "metadata": {},
   "outputs": [
    {
     "name": "stdout",
     "output_type": "stream",
     "text": [
      "tfp.bijectors.Softplus(\"softplus\", batch_shape=[], min_event_ndims=0)\n",
      "tfp.bijectors.Exp(\"exp\", batch_shape=[], min_event_ndims=0)\n"
     ]
    }
   ],
   "source": [
    "default_positive_bijector = get_positive_bijector()\n",
    "print(default_positive_bijector)\n",
    "set_positive_bijector(tfb.Exp())\n",
    "default_positive_bijector = get_positive_bijector()\n",
    "print(default_positive_bijector)"
   ]
  },
  {
   "attachments": {},
   "cell_type": "markdown",
   "metadata": {},
   "source": [
    "### Default jitter"
   ]
  },
  {
   "cell_type": "code",
   "execution_count": 25,
   "metadata": {},
   "outputs": [
    {
     "name": "stdout",
     "output_type": "stream",
     "text": [
      "1e-06\n",
      "0.001\n"
     ]
    }
   ],
   "source": [
    "default_jitter = get_default_jitter()\n",
    "print(default_jitter)\n",
    "set_default_jitter(1e-3)\n",
    "default_jitter = get_default_jitter()\n",
    "print(default_jitter)"
   ]
  },
  {
   "attachments": {},
   "cell_type": "markdown",
   "metadata": {},
   "source": [
    "## Advanced"
   ]
  },
  {
   "attachments": {},
   "cell_type": "markdown",
   "metadata": {},
   "source": [
    "### Parameter as a PyTree"
   ]
  },
  {
   "attachments": {},
   "cell_type": "markdown",
   "metadata": {},
   "source": [
    "`Parameter` objects are also PyTrees and we can pass them directly to the loss function. This reduces the complexity of the loss function and makes it more readable."
   ]
  },
  {
   "cell_type": "code",
   "execution_count": 26,
   "metadata": {},
   "outputs": [
    {
     "name": "stdout",
     "output_type": "stream",
     "text": [
      "[1.9201423 3.7467837 7.891758 ]\n",
      "[DeviceArray([1.2642411, 3.4586592, 7.853476 ], dtype=float32)]\n",
      "[DeviceArray([0., 0., 0.], dtype=float32)]\n"
     ]
    }
   ],
   "source": [
    "def fun_trainable(param):\n",
    "    return (param() ** 2).sum()\n",
    "\n",
    "\n",
    "def fun_non_trainable(param):\n",
    "    param.trainable(False)\n",
    "    return (param() ** 2).sum()\n",
    "\n",
    "\n",
    "value = jnp.array([1.0, 2.0, 4.0])\n",
    "param = Parameter(value=value, bijector=tfb.Softplus())\n",
    "\n",
    "print(jax.grad(lambda x: (jax.nn.softplus(x) ** 2).sum())(value))\n",
    "print(jtu.tree_leaves(jax.grad(fun_trainable)(param)))\n",
    "print(jtu.tree_leaves(jax.grad(fun_non_trainable)(param)))"
   ]
  }
 ],
 "metadata": {
  "kernelspec": {
   "display_name": "jax_gpu",
   "language": "python",
   "name": "python3"
  },
  "language_info": {
   "codemirror_mode": {
    "name": "ipython",
    "version": 3
   },
   "file_extension": ".py",
   "mimetype": "text/x-python",
   "name": "python",
   "nbconvert_exporter": "python",
   "pygments_lexer": "ipython3",
   "version": "3.9.12"
  },
  "orig_nbformat": 4,
  "vscode": {
   "interpreter": {
    "hash": "9052b22ca390d445be546c3044ec1d5126a8aeba9d3c8f88b3439e2169c91513"
   }
  }
 },
 "nbformat": 4,
 "nbformat_minor": 2
}
