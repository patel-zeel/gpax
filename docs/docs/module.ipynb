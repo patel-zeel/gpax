{
 "cells": [
  {
   "attachments": {},
   "cell_type": "markdown",
   "metadata": {},
   "source": [
    "# Modules"
   ]
  },
  {
   "attachments": {},
   "cell_type": "markdown",
   "metadata": {},
   "source": [
    "In this notebook, we will discuss the various modules of GPAX to run various Gaussian process models."
   ]
  },
  {
   "cell_type": "code",
   "execution_count": 47,
   "metadata": {},
   "outputs": [],
   "source": [
    "import os\n",
    "\n",
    "os.environ[\"CUDA_VISIBLE_DEVICES\"] = \"0\"\n",
    "\n",
    "import jax\n",
    "import jax.numpy as jnp\n",
    "import jax.tree_util as jtu\n",
    "\n",
    "import tensorflow_probability.substrates.jax as tfp\n",
    "\n",
    "tfd = tfp.distributions\n",
    "tfb = tfp.bijectors\n",
    "\n",
    "import matplotlib.pyplot as plt\n",
    "import arviz as az\n",
    "\n",
    "import gpax.kernels as gpk\n",
    "import gpax.likelihoods as gpl\n",
    "import gpax.models as gpm\n",
    "from gpax.means import Scalar, Average"
   ]
  },
  {
   "attachments": {},
   "cell_type": "markdown",
   "metadata": {},
   "source": [
    "## Kernels"
   ]
  },
  {
   "attachments": {},
   "cell_type": "markdown",
   "metadata": {},
   "source": [
    "Kernels are the building blocks of Gaussian process models. They are used to define the covariance function of the Gaussian process. The covariance function is a function of two inputs, $x$ and $x'$, and is provides the covariance (or similarity) between the two inputs."
   ]
  },
  {
   "attachments": {},
   "cell_type": "markdown",
   "metadata": {},
   "source": [
    "### Common kernels"
   ]
  },
  {
   "attachments": {},
   "cell_type": "markdown",
   "metadata": {},
   "source": [
    "The most commonaly used kernel is Radial Basis Function (RBF) (or squared exponential) kernel, which is defined as:\n",
    "\n",
    "$$\n",
    "k(x, x') = \\sigma^2 \\exp\\left(-\\frac{1}{2l^2} (x - x')^2\\right)\n",
    "$$"
   ]
  },
  {
   "attachments": {},
   "cell_type": "markdown",
   "metadata": {},
   "source": [
    "We can define the RBF kernel in GPAX as follows with lengthscale ($\\ell$) and variance ($\\sigma^2$):"
   ]
  },
  {
   "cell_type": "code",
   "execution_count": 48,
   "metadata": {},
   "outputs": [
    {
     "name": "stdout",
     "output_type": "stream",
     "text": [
      "Scale(RBF)\n"
     ]
    }
   ],
   "source": [
    "X = jnp.linspace(0, 1, 20).reshape(-1, 1)\n",
    "lengthscale = 0.1\n",
    "variance = 0.5\n",
    "\n",
    "base_kernel = gpk.RBF(X, lengthscale=0.1)\n",
    "kernel = variance * base_kernel\n",
    "print(kernel)"
   ]
  },
  {
   "attachments": {},
   "cell_type": "markdown",
   "metadata": {},
   "source": [
    "A more explicit way to define the RBF kernel (or any other kernel with variance) is as follows:"
   ]
  },
  {
   "cell_type": "code",
   "execution_count": 49,
   "metadata": {},
   "outputs": [
    {
     "name": "stdout",
     "output_type": "stream",
     "text": [
      "Scale(RBF)\n"
     ]
    }
   ],
   "source": [
    "base_kernel = gpk.RBF(X, lengthscale=lengthscale)\n",
    "kernel2 = gpk.Scale(X, base_kernel, variance=variance)\n",
    "print(kernel2)"
   ]
  },
  {
   "attachments": {},
   "cell_type": "markdown",
   "metadata": {},
   "source": [
    "We can get the kernel function by calling the `get_kernel_fn` method. Optionally, for advanced kernels, `get_kernel_fn` takes `X_inducing` as in input. This is used for inducing point based kernels. While in `train` mode, kernel returns the covariance matrix and log prior. We will see more about the log prior later, but for common kernels, it is always `zero`."
   ]
  },
  {
   "cell_type": "code",
   "execution_count": 50,
   "metadata": {},
   "outputs": [
    {
     "name": "stdout",
     "output_type": "stream",
     "text": [
      "(20, 20) 0.0\n"
     ]
    }
   ],
   "source": [
    "kernel_fn = kernel.get_kernel_fn()\n",
    "K, log_prior = kernel_fn(X, X)\n",
    "print(K.shape, log_prior)"
   ]
  },
  {
   "attachments": {},
   "cell_type": "markdown",
   "metadata": {},
   "source": [
    "Other common kernels are:\n",
    "| Kernel | Formula |\n",
    "| --- | --- |\n",
    "| Matern 3/2 | $\\sigma^2 \\left(1 + \\sqrt{3} \\frac{d}{\\ell}\\right) \\exp\\left(-\\sqrt{3} \\frac{d}{\\ell}\\right)$ |\n",
    "| Matern 5/2 | $\\sigma^2 \\left(1 + \\sqrt{5} \\frac{d}{\\ell} + \\frac{5}{3} \\frac{d^2}{\\ell^2}\\right) \\exp\\left(-\\sqrt{5} \\frac{d}{\\ell}\\right)$ |\n",
    "| Matern 1/2 or Exponential | $\\sigma^2 \\exp\\left(- \\frac{d}{\\ell}\\right)$ |\n",
    "| Periodic | $\\sigma^2 \\exp\\left(- \\frac{2 \\sin^2(\\pi d / p)}{\\ell}\\right)$ |"
   ]
  },
  {
   "cell_type": "code",
   "execution_count": 51,
   "metadata": {},
   "outputs": [],
   "source": [
    "lengthscale = 0.1\n",
    "\n",
    "matern32 = variance * gpk.Matern32(X, lengthscale)\n",
    "matern12 = variance * gpk.Matern12(X, lengthscale)\n",
    "matern52 = variance * gpk.Matern52(X, lengthscale)\n",
    "periodic = variance * gpk.Periodic(X, lengthscale, period=0.2)"
   ]
  },
  {
   "attachments": {},
   "cell_type": "markdown",
   "metadata": {},
   "source": [
    "### Special kernels"
   ]
  },
  {
   "attachments": {},
   "cell_type": "markdown",
   "metadata": {},
   "source": [
    "We have implemented various special kernels for research purposes. "
   ]
  },
  {
   "attachments": {},
   "cell_type": "markdown",
   "metadata": {},
   "source": [
    "#### Input-dependent variance ($\\sigma^2$) kernel"
   ]
  },
  {
   "attachments": {},
   "cell_type": "markdown",
   "metadata": {},
   "source": [
    "In cases, where we want to learn the variance of the kernel as a function of the input, we can use the `InputDependentScale` kernel. It takes a `base_kernel` and a `latent_model` as input. Latent models are discussed in detail in [Latent models](latent-models) section."
   ]
  },
  {
   "cell_type": "code",
   "execution_count": 52,
   "metadata": {},
   "outputs": [
    {
     "name": "stdout",
     "output_type": "stream",
     "text": [
      "InputDependentScale(RBF)\n"
     ]
    }
   ],
   "source": [
    "latent_kernel = variance * gpk.RBF(X, lengthscale=0.1)\n",
    "latent_model = gpm.LatentGPHeinonen(X, latent_kernel)\n",
    "\n",
    "base_kernel = gpk.RBF(X, lengthscale=0.2)\n",
    "kernel = gpk.InputDependentScale(X, base_kernel, latent_model)\n",
    "print(kernel)"
   ]
  },
  {
   "attachments": {},
   "cell_type": "markdown",
   "metadata": {},
   "source": [
    "Let us plot the input-dependent variance ($\\sigma^2$)."
   ]
  },
  {
   "cell_type": "code",
   "execution_count": 61,
   "metadata": {},
   "outputs": [],
   "source": [
    "def plot_kernel():\n",
    "    variable_scale, _ = kernel.latent_model(X_inducing=X)(X=X)\n",
    "    variable_variance = variable_scale ** 2\n",
    "\n",
    "    fig, ax = plt.subplots(1, 2, figsize=(10, 3))\n",
    "    ax[0].plot(X, variable_variance, label='constant variance');\n",
    "\n",
    "    K, log_prior = kernel.get_kernel_fn(X_inducing=X)(X, X)\n",
    "\n",
    "    ax[1].imshow(K);\n",
    "    return ax"
   ]
  },
  {
   "attachments": {},
   "cell_type": "markdown",
   "metadata": {},
   "source": [
    "Fixing a constant variance for all inputs. This could be a good initialization for the input-dependent variance kernel."
   ]
  },
  {
   "cell_type": "code",
   "execution_count": 63,
   "metadata": {},
   "outputs": [
    {
     "data": {
      "image/png": "[encoded data removed]",
      "text/plain": [
       "<Figure size 720x216 with 2 Axes>"
      ]
     },
     "metadata": {
      "needs_background": "light"
     },
     "output_type": "display_data"
    }
   ],
   "source": [
    "kernel.latent_model.reverse_init(0.1)\n",
    "ax = plot_kernel()\n",
    "ax[0].set_ylim(0, 0.02);"
   ]
  },
  {
   "attachments": {},
   "cell_type": "markdown",
   "metadata": {},
   "source": [
    "Randomizing the variance for all inputs:"
   ]
  },
  {
   "cell_type": "code",
   "execution_count": 76,
   "metadata": {},
   "outputs": [
    {
     "data": {
      "image/png": "[encoded data removed]",
      "text/plain": [
       "<Figure size 720x216 with 2 Axes>"
      ]
     },
     "metadata": {
      "needs_background": "light"
     },
     "output_type": "display_data"
    }
   ],
   "source": [
    "key = jax.random.PRNGKey(10)\n",
    "kernel.initialize(key)\n",
    "plot_kernel();"
   ]
  },
  {
   "attachments": {},
   "cell_type": "markdown",
   "metadata": {},
   "source": [
    "## Models"
   ]
  },
  {
   "attachments": {},
   "cell_type": "markdown",
   "metadata": {},
   "source": [
    "(latent-models)=\n",
    "### Latent Models"
   ]
  }
 ],
 "metadata": {
  "kernelspec": {
   "display_name": "jax_gpu",
   "language": "python",
   "name": "python3"
  },
  "language_info": {
   "codemirror_mode": {
    "name": "ipython",
    "version": 3
   },
   "file_extension": ".py",
   "mimetype": "text/x-python",
   "name": "python",
   "nbconvert_exporter": "python",
   "pygments_lexer": "ipython3",
   "version": "3.9.12"
  },
  "orig_nbformat": 4,
  "vscode": {
   "interpreter": {
    "hash": "9052b22ca390d445be546c3044ec1d5126a8aeba9d3c8f88b3439e2169c91513"
   }
  }
 },
 "nbformat": 4,
 "nbformat_minor": 2
}
